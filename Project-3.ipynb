{
 "cells": [
  {
   "cell_type": "markdown",
   "metadata": {},
   "source": [
    "#                                       DATA SCIENCE PROJECT-3"
   ]
  },
  {
   "cell_type": "raw",
   "metadata": {},
   "source": [
    "Project to use Census Bureau Database to determine and \n",
    "Predict whether income exceeds $50K/yr based on census data. Also known as \"Census Income\" dataset.\n",
    "Dataset Used: https://archive.ics.uci.edu/ml/datasets/Adult\n",
    "\n",
    "Problems to be resolved\n",
    "1.Prediction task is to determine whether a person makes over 50K a year.\n",
    "2.Which factors are important?\n",
    "3.Which algorithms are best for this dataset?\n"
   ]
  },
  {
   "cell_type": "raw",
   "metadata": {},
   "source": [
    "Dataset Description from the source\n",
    "\n",
    "age: continuous.\n",
    "workclass: Private, Self-emp-not-inc, Self-emp-inc, Federal-gov, Local-gov, State-gov, Without-pay, Never-worked.\n",
    "fnlwgt: continuous.\n",
    "education: Bachelors, Some-college, 11th, HS-grad, Prof-school, Assoc-acdm, Assoc-voc, 9th, 7th-8th, 12th, Masters, 1st-4th, 10th, Doctorate, 5th-6th, Preschool.\n",
    "education-num: continuous.\n",
    "marital-status: Married-civ-spouse, Divorced, Never-married, Separated, Widowed, Married-spouse-absent, Married-AF-spouse.\n",
    "occupation: Tech-support, Craft-repair, Other-service, Sales, Exec-managerial, Prof-specialty, Handlers-cleaners, Machine-op-inspct, Adm-clerical, Farming-fishing, Transport-moving, Priv-house-serv, Protective-serv, Armed-Forces.\n",
    "relationship: Wife, Own-child, Husband, Not-in-family, Other-relative, Unmarried.\n",
    "race: White, Asian-Pac-Islander, Amer-Indian-Eskimo, Other, Black.\n",
    "sex: Female, Male.\n",
    "capital-gain: continuous.\n",
    "capital-loss: continuous.\n",
    "hours-per-week: continuous.\n",
    "native-country: United-States, Cambodia, England, Puerto-Rico, Canada, Germany, Outlying-US(Guam-USVI-etc), India, Japan, Greece, South, China, Cuba, Iran, Honduras, Philippines, Italy, Poland, Jamaica, Vietnam, Mexico, Portugal, Ireland, France, Dominican-Republic, Laos, Ecuador, Taiwan, Haiti, Columbia, Hungary, Guatemala, Nicaragua, Scotland, Thailand, Yugoslavia, El-Salvador, Trinadad&Tobago, Peru, Hong, Holand-Netherlands.\n"
   ]
  },
  {
   "cell_type": "code",
   "execution_count": 1,
   "metadata": {
    "collapsed": true
   },
   "outputs": [],
   "source": [
    "%matplotlib inline\n",
    "import pandas as pd\n",
    "import numpy as np\n",
    "import matplotlib.pyplot as plt\n",
    "from collections import defaultdict\n",
    "from sklearn.preprocessing import LabelEncoder\n",
    "from sklearn.model_selection import train_test_split\n",
    "from sklearn.linear_model import LogisticRegression\n",
    "from sklearn.ensemble import RandomForestClassifier\n",
    "from sklearn.tree import DecisionTreeClassifier\n",
    "from sklearn.metrics import accuracy_score\n",
    "from sklearn.metrics import classification_report\n",
    "from sklearn.metrics import confusion_matrix"
   ]
  },
  {
   "cell_type": "code",
   "execution_count": 2,
   "metadata": {
    "collapsed": true
   },
   "outputs": [],
   "source": [
    "#Import the Data to a pandas Datafram\n",
    "#Import Train Data\n",
    "traindata = pd.read_csv(r\"data\\adult.data\",\n",
    "                   names=['Age','workclass','fnlwgt','education','education_num','marital_status','occupation','relationship','race','sex','capital_gain','capital_loss','hours_per_week','native_country','label'])\n",
    "\n",
    "#Import Test Data\n",
    "testdata= pd.read_csv(r\"data\\adult.test\",\n",
    "                   names=['Age','workclass','fnlwgt','education','education_num','marital_status','occupation','relationship','race','sex','capital_gain','capital_loss','hours_per_week','native_country','label'])\n",
    "\n"
   ]
  },
  {
   "cell_type": "code",
   "execution_count": 3,
   "metadata": {},
   "outputs": [
    {
     "data": {
      "text/html": [
       "<div>\n",
       "<style>\n",
       "    .dataframe thead tr:only-child th {\n",
       "        text-align: right;\n",
       "    }\n",
       "\n",
       "    .dataframe thead th {\n",
       "        text-align: left;\n",
       "    }\n",
       "\n",
       "    .dataframe tbody tr th {\n",
       "        vertical-align: top;\n",
       "    }\n",
       "</style>\n",
       "<table border=\"1\" class=\"dataframe\">\n",
       "  <thead>\n",
       "    <tr style=\"text-align: right;\">\n",
       "      <th></th>\n",
       "      <th>Age</th>\n",
       "      <th>workclass</th>\n",
       "      <th>fnlwgt</th>\n",
       "      <th>education</th>\n",
       "      <th>education_num</th>\n",
       "      <th>marital_status</th>\n",
       "      <th>occupation</th>\n",
       "      <th>relationship</th>\n",
       "      <th>race</th>\n",
       "      <th>sex</th>\n",
       "      <th>capital_gain</th>\n",
       "      <th>capital_loss</th>\n",
       "      <th>hours_per_week</th>\n",
       "      <th>native_country</th>\n",
       "      <th>label</th>\n",
       "    </tr>\n",
       "  </thead>\n",
       "  <tbody>\n",
       "    <tr>\n",
       "      <th>0</th>\n",
       "      <td>39</td>\n",
       "      <td>State-gov</td>\n",
       "      <td>77516.0</td>\n",
       "      <td>Bachelors</td>\n",
       "      <td>13.0</td>\n",
       "      <td>Never-married</td>\n",
       "      <td>Adm-clerical</td>\n",
       "      <td>Not-in-family</td>\n",
       "      <td>White</td>\n",
       "      <td>Male</td>\n",
       "      <td>2174.0</td>\n",
       "      <td>0.0</td>\n",
       "      <td>40.0</td>\n",
       "      <td>United-States</td>\n",
       "      <td>&lt;=50K</td>\n",
       "    </tr>\n",
       "    <tr>\n",
       "      <th>1</th>\n",
       "      <td>50</td>\n",
       "      <td>Self-emp-not-inc</td>\n",
       "      <td>83311.0</td>\n",
       "      <td>Bachelors</td>\n",
       "      <td>13.0</td>\n",
       "      <td>Married-civ-spouse</td>\n",
       "      <td>Exec-managerial</td>\n",
       "      <td>Husband</td>\n",
       "      <td>White</td>\n",
       "      <td>Male</td>\n",
       "      <td>0.0</td>\n",
       "      <td>0.0</td>\n",
       "      <td>13.0</td>\n",
       "      <td>United-States</td>\n",
       "      <td>&lt;=50K</td>\n",
       "    </tr>\n",
       "    <tr>\n",
       "      <th>2</th>\n",
       "      <td>38</td>\n",
       "      <td>Private</td>\n",
       "      <td>215646.0</td>\n",
       "      <td>HS-grad</td>\n",
       "      <td>9.0</td>\n",
       "      <td>Divorced</td>\n",
       "      <td>Handlers-cleaners</td>\n",
       "      <td>Not-in-family</td>\n",
       "      <td>White</td>\n",
       "      <td>Male</td>\n",
       "      <td>0.0</td>\n",
       "      <td>0.0</td>\n",
       "      <td>40.0</td>\n",
       "      <td>United-States</td>\n",
       "      <td>&lt;=50K</td>\n",
       "    </tr>\n",
       "    <tr>\n",
       "      <th>3</th>\n",
       "      <td>53</td>\n",
       "      <td>Private</td>\n",
       "      <td>234721.0</td>\n",
       "      <td>11th</td>\n",
       "      <td>7.0</td>\n",
       "      <td>Married-civ-spouse</td>\n",
       "      <td>Handlers-cleaners</td>\n",
       "      <td>Husband</td>\n",
       "      <td>Black</td>\n",
       "      <td>Male</td>\n",
       "      <td>0.0</td>\n",
       "      <td>0.0</td>\n",
       "      <td>40.0</td>\n",
       "      <td>United-States</td>\n",
       "      <td>&lt;=50K</td>\n",
       "    </tr>\n",
       "    <tr>\n",
       "      <th>4</th>\n",
       "      <td>28</td>\n",
       "      <td>Private</td>\n",
       "      <td>338409.0</td>\n",
       "      <td>Bachelors</td>\n",
       "      <td>13.0</td>\n",
       "      <td>Married-civ-spouse</td>\n",
       "      <td>Prof-specialty</td>\n",
       "      <td>Wife</td>\n",
       "      <td>Black</td>\n",
       "      <td>Female</td>\n",
       "      <td>0.0</td>\n",
       "      <td>0.0</td>\n",
       "      <td>40.0</td>\n",
       "      <td>Cuba</td>\n",
       "      <td>&lt;=50K</td>\n",
       "    </tr>\n",
       "  </tbody>\n",
       "</table>\n",
       "</div>"
      ],
      "text/plain": [
       "  Age          workclass    fnlwgt   education  education_num  \\\n",
       "0  39          State-gov   77516.0   Bachelors           13.0   \n",
       "1  50   Self-emp-not-inc   83311.0   Bachelors           13.0   \n",
       "2  38            Private  215646.0     HS-grad            9.0   \n",
       "3  53            Private  234721.0        11th            7.0   \n",
       "4  28            Private  338409.0   Bachelors           13.0   \n",
       "\n",
       "        marital_status          occupation    relationship    race      sex  \\\n",
       "0        Never-married        Adm-clerical   Not-in-family   White     Male   \n",
       "1   Married-civ-spouse     Exec-managerial         Husband   White     Male   \n",
       "2             Divorced   Handlers-cleaners   Not-in-family   White     Male   \n",
       "3   Married-civ-spouse   Handlers-cleaners         Husband   Black     Male   \n",
       "4   Married-civ-spouse      Prof-specialty            Wife   Black   Female   \n",
       "\n",
       "   capital_gain  capital_loss  hours_per_week  native_country   label  \n",
       "0        2174.0           0.0            40.0   United-States   <=50K  \n",
       "1           0.0           0.0            13.0   United-States   <=50K  \n",
       "2           0.0           0.0            40.0   United-States   <=50K  \n",
       "3           0.0           0.0            40.0   United-States   <=50K  \n",
       "4           0.0           0.0            40.0            Cuba   <=50K  "
      ]
     },
     "execution_count": 3,
     "metadata": {},
     "output_type": "execute_result"
    }
   ],
   "source": [
    "#Append the test and train dataset to one\n",
    "data = traindata.append(testdata)\n",
    "#View the data\n",
    "data.head()"
   ]
  },
  {
   "cell_type": "code",
   "execution_count": 4,
   "metadata": {},
   "outputs": [
    {
     "name": "stdout",
     "output_type": "stream",
     "text": [
      "Total Dataset: 48843\n"
     ]
    }
   ],
   "source": [
    "print(\"Total Dataset:\", data.shape[0])"
   ]
  },
  {
   "cell_type": "code",
   "execution_count": 5,
   "metadata": {},
   "outputs": [
    {
     "data": {
      "text/plain": [
       "array([' <=50K', ' >50K', nan, ' <=50K.', ' >50K.'], dtype=object)"
      ]
     },
     "execution_count": 5,
     "metadata": {},
     "output_type": "execute_result"
    }
   ],
   "source": [
    "# Lets Analyze the Data\n",
    "data.label.unique() # Looking at the result below there are labels which are inconsistent. - It has to be corrected"
   ]
  },
  {
   "cell_type": "code",
   "execution_count": 6,
   "metadata": {},
   "outputs": [
    {
     "data": {
      "text/plain": [
       "array([' <=50K', ' >50K', nan], dtype=object)"
      ]
     },
     "execution_count": 6,
     "metadata": {},
     "output_type": "execute_result"
    }
   ],
   "source": [
    "#replace function of the Pandas is used to correct and make the values consistent\n",
    "data['label']= data['label'].replace(' <=50K.', ' <=50K')\n",
    "data['label']=data['label'].replace(' >50K.', ' >50K')\n",
    "data.label.unique() #now the values are consistent"
   ]
  },
  {
   "cell_type": "code",
   "execution_count": 7,
   "metadata": {},
   "outputs": [
    {
     "name": "stdout",
     "output_type": "stream",
     "text": [
      "Total Dataset after removing nan: 48842\n"
     ]
    }
   ],
   "source": [
    "#from the above results we still see that there is nan value, lets remove it as the dataset without unknow label is not necessary\n",
    "data = data.dropna()\n",
    "print(\"Total Dataset after removing nan:\", data.shape[0])"
   ]
  },
  {
   "cell_type": "code",
   "execution_count": 8,
   "metadata": {},
   "outputs": [
    {
     "data": {
      "text/plain": [
       "array([39, 50, 38, 53, 28, 37, 49, 52, 31, 42, 30, 23, 32, 40, 34, 25, 43,\n",
       "       54, 35, 59, 56, 19, 20, 45, 22, 48, 21, 24, 57, 44, 41, 29, 18, 47,\n",
       "       46, 36, 79, 27, 67, 33, 76, 17, 55, 61, 70, 64, 71, 68, 66, 51, 58,\n",
       "       26, 60, 90, 75, 65, 77, 62, 63, 80, 72, 74, 69, 73, 81, 78, 88, 82,\n",
       "       83, 84, 85, 86, 87, '25', '38', '28', '44', '18', '34', '29', '63',\n",
       "       '24', '55', '65', '36', '26', '58', '48', '43', '20', '37', '40',\n",
       "       '72', '45', '22', '23', '54', '32', '46', '56', '17', '39', '52',\n",
       "       '21', '42', '33', '30', '47', '41', '19', '69', '50', '31', '59',\n",
       "       '49', '51', '27', '57', '61', '64', '79', '73', '53', '77', '80',\n",
       "       '62', '35', '68', '66', '75', '60', '67', '71', '70', '90', '81',\n",
       "       '74', '78', '82', '83', '85', '76', '84', '89', '88', '87'], dtype=object)"
      ]
     },
     "execution_count": 8,
     "metadata": {},
     "output_type": "execute_result"
    }
   ],
   "source": [
    "#Although the Dataset description says the Age is continuous, there are numbers stores as string see below results\n",
    "data.Age.unique()"
   ]
  },
  {
   "cell_type": "code",
   "execution_count": 9,
   "metadata": {},
   "outputs": [
    {
     "data": {
      "text/plain": [
       "array([39, 50, 38, 53, 28, 37, 49, 52, 31, 42, 30, 23, 32, 40, 34, 25, 43,\n",
       "       54, 35, 59, 56, 19, 20, 45, 22, 48, 21, 24, 57, 44, 41, 29, 18, 47,\n",
       "       46, 36, 79, 27, 67, 33, 76, 17, 55, 61, 70, 64, 71, 68, 66, 51, 58,\n",
       "       26, 60, 90, 75, 65, 77, 62, 63, 80, 72, 74, 69, 73, 81, 78, 88, 82,\n",
       "       83, 84, 85, 86, 87, 89], dtype=int64)"
      ]
     },
     "execution_count": 9,
     "metadata": {},
     "output_type": "execute_result"
    }
   ],
   "source": [
    "#lets connvert to number and see the result and datatype\n",
    "data['Age'] = data['Age'].apply(pd.to_numeric)\n",
    "data.Age.unique()"
   ]
  },
  {
   "cell_type": "code",
   "execution_count": 10,
   "metadata": {
    "collapsed": true
   },
   "outputs": [],
   "source": [
    "#Lets Visualize the Data"
   ]
  },
  {
   "cell_type": "code",
   "execution_count": 11,
   "metadata": {},
   "outputs": [
    {
     "data": {
      "text/html": [
       "<div>\n",
       "<style>\n",
       "    .dataframe thead tr:only-child th {\n",
       "        text-align: right;\n",
       "    }\n",
       "\n",
       "    .dataframe thead th {\n",
       "        text-align: left;\n",
       "    }\n",
       "\n",
       "    .dataframe tbody tr th {\n",
       "        vertical-align: top;\n",
       "    }\n",
       "</style>\n",
       "<table border=\"1\" class=\"dataframe\">\n",
       "  <thead>\n",
       "    <tr style=\"text-align: right;\">\n",
       "      <th>label</th>\n",
       "      <th>&lt;=50K</th>\n",
       "      <th>&gt;50K</th>\n",
       "    </tr>\n",
       "    <tr>\n",
       "      <th>sex</th>\n",
       "      <th></th>\n",
       "      <th></th>\n",
       "    </tr>\n",
       "  </thead>\n",
       "  <tbody>\n",
       "    <tr>\n",
       "      <th>Female</th>\n",
       "      <td>0.890749</td>\n",
       "      <td>0.109251</td>\n",
       "    </tr>\n",
       "    <tr>\n",
       "      <th>Male</th>\n",
       "      <td>0.696233</td>\n",
       "      <td>0.303767</td>\n",
       "    </tr>\n",
       "  </tbody>\n",
       "</table>\n",
       "</div>"
      ],
      "text/plain": [
       "label       <=50K      >50K\n",
       "sex                        \n",
       " Female  0.890749  0.109251\n",
       " Male    0.696233  0.303767"
      ]
     },
     "execution_count": 11,
     "metadata": {},
     "output_type": "execute_result"
    }
   ],
   "source": [
    "# Use of Pivot function with aggregate function length to get the grouped data with field 'sex' againts for each label\n",
    "pivot_sex_df = data.pivot_table(index='sex',columns='label',values='Age',aggfunc=len,fill_value=0,margins=True)\n",
    "pivot_sex_df_percent = pivot_sex_df.div( pivot_sex_df.iloc[:,-1], axis=0 )\n",
    "pivot_sex_df_percent.iloc[:-1,:-1]"
   ]
  },
  {
   "cell_type": "code",
   "execution_count": 12,
   "metadata": {},
   "outputs": [
    {
     "data": {
      "text/plain": [
       "[Text(0,0.5,'Percentage%'), Text(0.5,0,'Sex')]"
      ]
     },
     "execution_count": 12,
     "metadata": {},
     "output_type": "execute_result"
    },
    {
     "data": {
      "image/png": "[encoded data removed]",
      "text/plain": [
       "<matplotlib.figure.Figure at 0x5af2400>"
      ]
     },
     "metadata": {},
     "output_type": "display_data"
    }
   ],
   "source": [
    "#Plot the Data\n",
    "plot1= pivot_sex_df_percent.iloc[:-1,:-1].plot.bar(stacked=True, figsize=(10,7), \n",
    "                                            title = \"Sex vs Salary Group\")\n",
    "plot1.set(xlabel=\"Sex\", ylabel=\"Percentage%\")\n"
   ]
  },
  {
   "cell_type": "code",
   "execution_count": 13,
   "metadata": {
    "collapsed": true
   },
   "outputs": [],
   "source": [
    "#Obervation from the above is % of males having Salary above 50K is more compared to Female"
   ]
  },
  {
   "cell_type": "code",
   "execution_count": 14,
   "metadata": {
    "collapsed": true
   },
   "outputs": [],
   "source": [
    "pivot_race_df = data.pivot_table(index='race',columns='label',values='Age',aggfunc=len,fill_value=0,margins=True)\n"
   ]
  },
  {
   "cell_type": "code",
   "execution_count": 15,
   "metadata": {
    "collapsed": true
   },
   "outputs": [],
   "source": [
    "pivot_race_df_percent = pivot_race_df.div( pivot_race_df.iloc[:,-1], axis=0 )\n"
   ]
  },
  {
   "cell_type": "code",
   "execution_count": 16,
   "metadata": {},
   "outputs": [
    {
     "data": {
      "text/html": [
       "<div>\n",
       "<style>\n",
       "    .dataframe thead tr:only-child th {\n",
       "        text-align: right;\n",
       "    }\n",
       "\n",
       "    .dataframe thead th {\n",
       "        text-align: left;\n",
       "    }\n",
       "\n",
       "    .dataframe tbody tr th {\n",
       "        vertical-align: top;\n",
       "    }\n",
       "</style>\n",
       "<table border=\"1\" class=\"dataframe\">\n",
       "  <thead>\n",
       "    <tr style=\"text-align: right;\">\n",
       "      <th>label</th>\n",
       "      <th>&lt;=50K</th>\n",
       "      <th>&gt;50K</th>\n",
       "    </tr>\n",
       "    <tr>\n",
       "      <th>race</th>\n",
       "      <th></th>\n",
       "      <th></th>\n",
       "    </tr>\n",
       "  </thead>\n",
       "  <tbody>\n",
       "    <tr>\n",
       "      <th>Amer-Indian-Eskimo</th>\n",
       "      <td>0.882979</td>\n",
       "      <td>0.117021</td>\n",
       "    </tr>\n",
       "    <tr>\n",
       "      <th>Asian-Pac-Islander</th>\n",
       "      <td>0.730744</td>\n",
       "      <td>0.269256</td>\n",
       "    </tr>\n",
       "    <tr>\n",
       "      <th>Black</th>\n",
       "      <td>0.879189</td>\n",
       "      <td>0.120811</td>\n",
       "    </tr>\n",
       "    <tr>\n",
       "      <th>Other</th>\n",
       "      <td>0.876847</td>\n",
       "      <td>0.123153</td>\n",
       "    </tr>\n",
       "    <tr>\n",
       "      <th>White</th>\n",
       "      <td>0.746013</td>\n",
       "      <td>0.253987</td>\n",
       "    </tr>\n",
       "  </tbody>\n",
       "</table>\n",
       "</div>"
      ],
      "text/plain": [
       "label                   <=50K      >50K\n",
       "race                                   \n",
       " Amer-Indian-Eskimo  0.882979  0.117021\n",
       " Asian-Pac-Islander  0.730744  0.269256\n",
       " Black               0.879189  0.120811\n",
       " Other               0.876847  0.123153\n",
       " White               0.746013  0.253987"
      ]
     },
     "execution_count": 16,
     "metadata": {},
     "output_type": "execute_result"
    }
   ],
   "source": [
    "pivot_race_df_percent.iloc[:-1,:-1]"
   ]
  },
  {
   "cell_type": "code",
   "execution_count": 17,
   "metadata": {},
   "outputs": [
    {
     "data": {
      "text/plain": [
       "[Text(0,0.5,'Percentage%'), Text(0.5,0,'Race')]"
      ]
     },
     "execution_count": 17,
     "metadata": {},
     "output_type": "execute_result"
    },
    {
     "data": {
      "image/png": "[encoded data removed]",
      "text/plain": [
       "<matplotlib.figure.Figure at 0xcb633c8>"
      ]
     },
     "metadata": {},
     "output_type": "display_data"
    }
   ],
   "source": [
    "plot2 = pivot_race_df_percent.iloc[:-1,:-1].plot.bar(stacked=True, figsize=(10,7),title = \"Race vs Salary Group\")\n",
    "plot2.set(xlabel=\"Race\", ylabel=\"Percentage%\")"
   ]
  },
  {
   "cell_type": "code",
   "execution_count": 18,
   "metadata": {
    "collapsed": true
   },
   "outputs": [],
   "source": [
    "#From the above we can see that People of Asian-Pac_Islander and White get salary more than 50K"
   ]
  },
  {
   "cell_type": "code",
   "execution_count": 19,
   "metadata": {
    "collapsed": true
   },
   "outputs": [],
   "source": [
    "pivot_relationship_df = data.pivot_table(index='relationship',columns='label',values='Age',aggfunc=len,fill_value=0,margins=True)\n"
   ]
  },
  {
   "cell_type": "code",
   "execution_count": 20,
   "metadata": {
    "collapsed": true
   },
   "outputs": [],
   "source": [
    "pivot_relationship_df_percent = pivot_relationship_df.div( pivot_relationship_df.iloc[:,-1], axis=0 )\n"
   ]
  },
  {
   "cell_type": "code",
   "execution_count": 21,
   "metadata": {},
   "outputs": [
    {
     "data": {
      "text/html": [
       "<div>\n",
       "<style>\n",
       "    .dataframe thead tr:only-child th {\n",
       "        text-align: right;\n",
       "    }\n",
       "\n",
       "    .dataframe thead th {\n",
       "        text-align: left;\n",
       "    }\n",
       "\n",
       "    .dataframe tbody tr th {\n",
       "        vertical-align: top;\n",
       "    }\n",
       "</style>\n",
       "<table border=\"1\" class=\"dataframe\">\n",
       "  <thead>\n",
       "    <tr style=\"text-align: right;\">\n",
       "      <th>label</th>\n",
       "      <th>&lt;=50K</th>\n",
       "      <th>&gt;50K</th>\n",
       "    </tr>\n",
       "    <tr>\n",
       "      <th>relationship</th>\n",
       "      <th></th>\n",
       "      <th></th>\n",
       "    </tr>\n",
       "  </thead>\n",
       "  <tbody>\n",
       "    <tr>\n",
       "      <th>Husband</th>\n",
       "      <td>0.551329</td>\n",
       "      <td>0.448671</td>\n",
       "    </tr>\n",
       "    <tr>\n",
       "      <th>Not-in-family</th>\n",
       "      <td>0.898593</td>\n",
       "      <td>0.101407</td>\n",
       "    </tr>\n",
       "    <tr>\n",
       "      <th>Other-relative</th>\n",
       "      <td>0.965471</td>\n",
       "      <td>0.034529</td>\n",
       "    </tr>\n",
       "    <tr>\n",
       "      <th>Own-child</th>\n",
       "      <td>0.985358</td>\n",
       "      <td>0.014642</td>\n",
       "    </tr>\n",
       "    <tr>\n",
       "      <th>Unmarried</th>\n",
       "      <td>0.939707</td>\n",
       "      <td>0.060293</td>\n",
       "    </tr>\n",
       "    <tr>\n",
       "      <th>Wife</th>\n",
       "      <td>0.531103</td>\n",
       "      <td>0.468897</td>\n",
       "    </tr>\n",
       "  </tbody>\n",
       "</table>\n",
       "</div>"
      ],
      "text/plain": [
       "label               <=50K      >50K\n",
       "relationship                       \n",
       " Husband         0.551329  0.448671\n",
       " Not-in-family   0.898593  0.101407\n",
       " Other-relative  0.965471  0.034529\n",
       " Own-child       0.985358  0.014642\n",
       " Unmarried       0.939707  0.060293\n",
       " Wife            0.531103  0.468897"
      ]
     },
     "execution_count": 21,
     "metadata": {},
     "output_type": "execute_result"
    }
   ],
   "source": [
    "pivot_relationship_df_percent.iloc[:-1,:-1]"
   ]
  },
  {
   "cell_type": "code",
   "execution_count": 22,
   "metadata": {},
   "outputs": [
    {
     "data": {
      "text/plain": [
       "[Text(0,0.5,'Percentage%'), Text(0.5,0,'Relationship')]"
      ]
     },
     "execution_count": 22,
     "metadata": {},
     "output_type": "execute_result"
    },
    {
     "data": {
      "image/png": "[encoded data removed]",
      "text/plain": [
       "<matplotlib.figure.Figure at 0xc787ac8>"
      ]
     },
     "metadata": {},
     "output_type": "display_data"
    }
   ],
   "source": [
    "plot3= pivot_relationship_df_percent.iloc[:-1,:-1].plot.bar(stacked=True, figsize=(10,7),title = \"Reltionship vs Salary Group\")\n",
    "plot3.set(xlabel=\"Relationship\", ylabel=\"Percentage%\")"
   ]
  },
  {
   "cell_type": "code",
   "execution_count": 23,
   "metadata": {
    "collapsed": true
   },
   "outputs": [],
   "source": [
    "#From the above its clear that relationship of Husband and Wife dominate in having salary more than 50K"
   ]
  },
  {
   "cell_type": "code",
   "execution_count": 24,
   "metadata": {
    "collapsed": true
   },
   "outputs": [],
   "source": [
    "pivot_ms_df = data.pivot_table(index='marital_status',columns='label',values='Age',aggfunc=len,fill_value=0,margins=True)\n"
   ]
  },
  {
   "cell_type": "code",
   "execution_count": 25,
   "metadata": {
    "collapsed": true
   },
   "outputs": [],
   "source": [
    "pivot_ms_dff_percent = pivot_ms_df.div( pivot_ms_df.iloc[:,-1], axis=0 )\n"
   ]
  },
  {
   "cell_type": "code",
   "execution_count": 26,
   "metadata": {},
   "outputs": [
    {
     "data": {
      "text/html": [
       "<div>\n",
       "<style>\n",
       "    .dataframe thead tr:only-child th {\n",
       "        text-align: right;\n",
       "    }\n",
       "\n",
       "    .dataframe thead th {\n",
       "        text-align: left;\n",
       "    }\n",
       "\n",
       "    .dataframe tbody tr th {\n",
       "        vertical-align: top;\n",
       "    }\n",
       "</style>\n",
       "<table border=\"1\" class=\"dataframe\">\n",
       "  <thead>\n",
       "    <tr style=\"text-align: right;\">\n",
       "      <th>label</th>\n",
       "      <th>&lt;=50K</th>\n",
       "      <th>&gt;50K</th>\n",
       "    </tr>\n",
       "    <tr>\n",
       "      <th>marital_status</th>\n",
       "      <th></th>\n",
       "      <th></th>\n",
       "    </tr>\n",
       "  </thead>\n",
       "  <tbody>\n",
       "    <tr>\n",
       "      <th>Divorced</th>\n",
       "      <td>0.898839</td>\n",
       "      <td>0.101161</td>\n",
       "    </tr>\n",
       "    <tr>\n",
       "      <th>Married-AF-spouse</th>\n",
       "      <td>0.621622</td>\n",
       "      <td>0.378378</td>\n",
       "    </tr>\n",
       "    <tr>\n",
       "      <th>Married-civ-spouse</th>\n",
       "      <td>0.553867</td>\n",
       "      <td>0.446133</td>\n",
       "    </tr>\n",
       "    <tr>\n",
       "      <th>Married-spouse-absent</th>\n",
       "      <td>0.907643</td>\n",
       "      <td>0.092357</td>\n",
       "    </tr>\n",
       "    <tr>\n",
       "      <th>Never-married</th>\n",
       "      <td>0.954520</td>\n",
       "      <td>0.045480</td>\n",
       "    </tr>\n",
       "    <tr>\n",
       "      <th>Separated</th>\n",
       "      <td>0.935294</td>\n",
       "      <td>0.064706</td>\n",
       "    </tr>\n",
       "    <tr>\n",
       "      <th>Widowed</th>\n",
       "      <td>0.915679</td>\n",
       "      <td>0.084321</td>\n",
       "    </tr>\n",
       "  </tbody>\n",
       "</table>\n",
       "</div>"
      ],
      "text/plain": [
       "label                      <=50K      >50K\n",
       "marital_status                            \n",
       " Divorced               0.898839  0.101161\n",
       " Married-AF-spouse      0.621622  0.378378\n",
       " Married-civ-spouse     0.553867  0.446133\n",
       " Married-spouse-absent  0.907643  0.092357\n",
       " Never-married          0.954520  0.045480\n",
       " Separated              0.935294  0.064706\n",
       " Widowed                0.915679  0.084321"
      ]
     },
     "execution_count": 26,
     "metadata": {},
     "output_type": "execute_result"
    }
   ],
   "source": [
    "pivot_ms_dff_percent.iloc[:-1,:-1]"
   ]
  },
  {
   "cell_type": "code",
   "execution_count": 27,
   "metadata": {},
   "outputs": [
    {
     "data": {
      "text/plain": [
       "[Text(0,0.5,'Percentage%'), Text(0.5,0,'Marital Status')]"
      ]
     },
     "execution_count": 27,
     "metadata": {},
     "output_type": "execute_result"
    },
    {
     "data": {
      "image/png": "[encoded data removed]",
      "text/plain": [
       "<matplotlib.figure.Figure at 0xcc37cc0>"
      ]
     },
     "metadata": {},
     "output_type": "display_data"
    }
   ],
   "source": [
    "plot4=pivot_ms_dff_percent.iloc[:-1,:-1].plot.bar(stacked=True, figsize=(10,7),title= \"Marital Status vs Salary Group\")\n",
    "plot4.set(xlabel=\"Marital Status\", ylabel=\"Percentage%\")"
   ]
  },
  {
   "cell_type": "code",
   "execution_count": 28,
   "metadata": {
    "collapsed": true
   },
   "outputs": [],
   "source": [
    "#from the above it is very clear that married people are having salary more than 50K"
   ]
  },
  {
   "cell_type": "code",
   "execution_count": 29,
   "metadata": {
    "collapsed": true
   },
   "outputs": [],
   "source": [
    "pivot_occ_df = data.pivot_table(index='occupation',columns='label',values='Age',aggfunc=len,fill_value=0,margins=True)\n"
   ]
  },
  {
   "cell_type": "code",
   "execution_count": 30,
   "metadata": {},
   "outputs": [
    {
     "data": {
      "text/html": [
       "<div>\n",
       "<style>\n",
       "    .dataframe thead tr:only-child th {\n",
       "        text-align: right;\n",
       "    }\n",
       "\n",
       "    .dataframe thead th {\n",
       "        text-align: left;\n",
       "    }\n",
       "\n",
       "    .dataframe tbody tr th {\n",
       "        vertical-align: top;\n",
       "    }\n",
       "</style>\n",
       "<table border=\"1\" class=\"dataframe\">\n",
       "  <thead>\n",
       "    <tr style=\"text-align: right;\">\n",
       "      <th>label</th>\n",
       "      <th>&lt;=50K</th>\n",
       "      <th>&gt;50K</th>\n",
       "    </tr>\n",
       "    <tr>\n",
       "      <th>occupation</th>\n",
       "      <th></th>\n",
       "      <th></th>\n",
       "    </tr>\n",
       "  </thead>\n",
       "  <tbody>\n",
       "    <tr>\n",
       "      <th>?</th>\n",
       "      <td>0.905660</td>\n",
       "      <td>0.094340</td>\n",
       "    </tr>\n",
       "    <tr>\n",
       "      <th>Adm-clerical</th>\n",
       "      <td>0.863126</td>\n",
       "      <td>0.136874</td>\n",
       "    </tr>\n",
       "    <tr>\n",
       "      <th>Armed-Forces</th>\n",
       "      <td>0.666667</td>\n",
       "      <td>0.333333</td>\n",
       "    </tr>\n",
       "    <tr>\n",
       "      <th>Craft-repair</th>\n",
       "      <td>0.773724</td>\n",
       "      <td>0.226276</td>\n",
       "    </tr>\n",
       "    <tr>\n",
       "      <th>Exec-managerial</th>\n",
       "      <td>0.522182</td>\n",
       "      <td>0.477818</td>\n",
       "    </tr>\n",
       "    <tr>\n",
       "      <th>Farming-fishing</th>\n",
       "      <td>0.883893</td>\n",
       "      <td>0.116107</td>\n",
       "    </tr>\n",
       "    <tr>\n",
       "      <th>Handlers-cleaners</th>\n",
       "      <td>0.933398</td>\n",
       "      <td>0.066602</td>\n",
       "    </tr>\n",
       "    <tr>\n",
       "      <th>Machine-op-inspct</th>\n",
       "      <td>0.876903</td>\n",
       "      <td>0.123097</td>\n",
       "    </tr>\n",
       "    <tr>\n",
       "      <th>Other-service</th>\n",
       "      <td>0.958562</td>\n",
       "      <td>0.041438</td>\n",
       "    </tr>\n",
       "    <tr>\n",
       "      <th>Priv-house-serv</th>\n",
       "      <td>0.987603</td>\n",
       "      <td>0.012397</td>\n",
       "    </tr>\n",
       "    <tr>\n",
       "      <th>Prof-specialty</th>\n",
       "      <td>0.548931</td>\n",
       "      <td>0.451069</td>\n",
       "    </tr>\n",
       "    <tr>\n",
       "      <th>Protective-serv</th>\n",
       "      <td>0.686673</td>\n",
       "      <td>0.313327</td>\n",
       "    </tr>\n",
       "    <tr>\n",
       "      <th>Sales</th>\n",
       "      <td>0.732013</td>\n",
       "      <td>0.267987</td>\n",
       "    </tr>\n",
       "    <tr>\n",
       "      <th>Tech-support</th>\n",
       "      <td>0.709544</td>\n",
       "      <td>0.290456</td>\n",
       "    </tr>\n",
       "    <tr>\n",
       "      <th>Transport-moving</th>\n",
       "      <td>0.795754</td>\n",
       "      <td>0.204246</td>\n",
       "    </tr>\n",
       "  </tbody>\n",
       "</table>\n",
       "</div>"
      ],
      "text/plain": [
       "label                  <=50K      >50K\n",
       "occupation                            \n",
       " ?                  0.905660  0.094340\n",
       " Adm-clerical       0.863126  0.136874\n",
       " Armed-Forces       0.666667  0.333333\n",
       " Craft-repair       0.773724  0.226276\n",
       " Exec-managerial    0.522182  0.477818\n",
       " Farming-fishing    0.883893  0.116107\n",
       " Handlers-cleaners  0.933398  0.066602\n",
       " Machine-op-inspct  0.876903  0.123097\n",
       " Other-service      0.958562  0.041438\n",
       " Priv-house-serv    0.987603  0.012397\n",
       " Prof-specialty     0.548931  0.451069\n",
       " Protective-serv    0.686673  0.313327\n",
       " Sales              0.732013  0.267987\n",
       " Tech-support       0.709544  0.290456\n",
       " Transport-moving   0.795754  0.204246"
      ]
     },
     "execution_count": 30,
     "metadata": {},
     "output_type": "execute_result"
    }
   ],
   "source": [
    "pivot_occ_df_percent = pivot_occ_df.div( pivot_occ_df.iloc[:,-1], axis=0 )\n",
    "pivot_occ_df_percent.iloc[:-1,:-1]"
   ]
  },
  {
   "cell_type": "code",
   "execution_count": 31,
   "metadata": {},
   "outputs": [
    {
     "data": {
      "text/plain": [
       "[Text(0,0.5,'Percentage%'), Text(0.5,0,'Occupation')]"
      ]
     },
     "execution_count": 31,
     "metadata": {},
     "output_type": "execute_result"
    },
    {
     "data": {
      "image/png": "[encoded data removed]",
      "text/plain": [
       "<matplotlib.figure.Figure at 0xce5d630>"
      ]
     },
     "metadata": {},
     "output_type": "display_data"
    }
   ],
   "source": [
    "plot5=pivot_occ_df_percent.iloc[:-1,:-1].plot.bar(stacked=True, figsize=(10,7),title= \"Occupation vs Salary Group\")\n",
    "plot5.set(xlabel=\"Occupation\", ylabel=\"Percentage%\")"
   ]
  },
  {
   "cell_type": "code",
   "execution_count": 32,
   "metadata": {
    "collapsed": true
   },
   "outputs": [],
   "source": [
    "#From the above the Executive Managers and Professional Speciality has Salaries more than 50K"
   ]
  },
  {
   "cell_type": "code",
   "execution_count": 33,
   "metadata": {
    "collapsed": true
   },
   "outputs": [],
   "source": [
    "pivot_wc_df = data.pivot_table(index='workclass',columns='label',values='Age',aggfunc=len,fill_value=0,margins=True)"
   ]
  },
  {
   "cell_type": "code",
   "execution_count": 34,
   "metadata": {},
   "outputs": [
    {
     "data": {
      "text/html": [
       "<div>\n",
       "<style>\n",
       "    .dataframe thead tr:only-child th {\n",
       "        text-align: right;\n",
       "    }\n",
       "\n",
       "    .dataframe thead th {\n",
       "        text-align: left;\n",
       "    }\n",
       "\n",
       "    .dataframe tbody tr th {\n",
       "        vertical-align: top;\n",
       "    }\n",
       "</style>\n",
       "<table border=\"1\" class=\"dataframe\">\n",
       "  <thead>\n",
       "    <tr style=\"text-align: right;\">\n",
       "      <th>label</th>\n",
       "      <th>&lt;=50K</th>\n",
       "      <th>&gt;50K</th>\n",
       "    </tr>\n",
       "    <tr>\n",
       "      <th>workclass</th>\n",
       "      <th></th>\n",
       "      <th></th>\n",
       "    </tr>\n",
       "  </thead>\n",
       "  <tbody>\n",
       "    <tr>\n",
       "      <th>?</th>\n",
       "      <td>0.905323</td>\n",
       "      <td>0.094677</td>\n",
       "    </tr>\n",
       "    <tr>\n",
       "      <th>Federal-gov</th>\n",
       "      <td>0.608240</td>\n",
       "      <td>0.391760</td>\n",
       "    </tr>\n",
       "    <tr>\n",
       "      <th>Local-gov</th>\n",
       "      <td>0.704401</td>\n",
       "      <td>0.295599</td>\n",
       "    </tr>\n",
       "    <tr>\n",
       "      <th>Never-worked</th>\n",
       "      <td>1.000000</td>\n",
       "      <td>0.000000</td>\n",
       "    </tr>\n",
       "    <tr>\n",
       "      <th>Private</th>\n",
       "      <td>0.782133</td>\n",
       "      <td>0.217867</td>\n",
       "    </tr>\n",
       "    <tr>\n",
       "      <th>Self-emp-inc</th>\n",
       "      <td>0.446608</td>\n",
       "      <td>0.553392</td>\n",
       "    </tr>\n",
       "    <tr>\n",
       "      <th>Self-emp-not-inc</th>\n",
       "      <td>0.721129</td>\n",
       "      <td>0.278871</td>\n",
       "    </tr>\n",
       "    <tr>\n",
       "      <th>State-gov</th>\n",
       "      <td>0.732458</td>\n",
       "      <td>0.267542</td>\n",
       "    </tr>\n",
       "    <tr>\n",
       "      <th>Without-pay</th>\n",
       "      <td>0.904762</td>\n",
       "      <td>0.095238</td>\n",
       "    </tr>\n",
       "  </tbody>\n",
       "</table>\n",
       "</div>"
      ],
      "text/plain": [
       "label                 <=50K      >50K\n",
       "workclass                            \n",
       " ?                 0.905323  0.094677\n",
       " Federal-gov       0.608240  0.391760\n",
       " Local-gov         0.704401  0.295599\n",
       " Never-worked      1.000000  0.000000\n",
       " Private           0.782133  0.217867\n",
       " Self-emp-inc      0.446608  0.553392\n",
       " Self-emp-not-inc  0.721129  0.278871\n",
       " State-gov         0.732458  0.267542\n",
       " Without-pay       0.904762  0.095238"
      ]
     },
     "execution_count": 34,
     "metadata": {},
     "output_type": "execute_result"
    }
   ],
   "source": [
    "pivot_wc_df_percent = pivot_wc_df.div( pivot_wc_df.iloc[:,-1], axis=0 )\n",
    "pivot_wc_df_percent.iloc[:-1,:-1]"
   ]
  },
  {
   "cell_type": "code",
   "execution_count": 35,
   "metadata": {},
   "outputs": [
    {
     "data": {
      "text/plain": [
       "[Text(0,0.5,'Percentage%'), Text(0.5,0,'WorkClass')]"
      ]
     },
     "execution_count": 35,
     "metadata": {},
     "output_type": "execute_result"
    },
    {
     "data": {
      "image/png": "[encoded data removed]",
      "text/plain": [
       "<matplotlib.figure.Figure at 0xcf0fe80>"
      ]
     },
     "metadata": {},
     "output_type": "display_data"
    }
   ],
   "source": [
    "plot6=pivot_wc_df_percent.iloc[:-1,:-1].plot.bar(stacked=True, figsize=(10,7),title= \"WorkClass vs Salary Group\")\n",
    "plot6.set(xlabel=\"WorkClass\", ylabel=\"Percentage%\")"
   ]
  },
  {
   "cell_type": "code",
   "execution_count": 36,
   "metadata": {
    "collapsed": true
   },
   "outputs": [],
   "source": [
    "#From the above it is clear that people who are self employed has salary more than 50K"
   ]
  },
  {
   "cell_type": "code",
   "execution_count": 37,
   "metadata": {
    "collapsed": true
   },
   "outputs": [],
   "source": [
    "label = data['label'] # Get the Labels\n",
    "data = data.drop('label', axis =1) # Drop Label from Data\n",
    "data['capitals'] = data['capital_gain']+ data['capital_loss'] # convery capital gain and capital loss to one columns\n",
    "data = data.drop(['capital_gain','capital_loss'], axis =1) "
   ]
  },
  {
   "cell_type": "code",
   "execution_count": 38,
   "metadata": {},
   "outputs": [
    {
     "data": {
      "text/html": [
       "<div>\n",
       "<style>\n",
       "    .dataframe thead tr:only-child th {\n",
       "        text-align: right;\n",
       "    }\n",
       "\n",
       "    .dataframe thead th {\n",
       "        text-align: left;\n",
       "    }\n",
       "\n",
       "    .dataframe tbody tr th {\n",
       "        vertical-align: top;\n",
       "    }\n",
       "</style>\n",
       "<table border=\"1\" class=\"dataframe\">\n",
       "  <thead>\n",
       "    <tr style=\"text-align: right;\">\n",
       "      <th></th>\n",
       "      <th>Age</th>\n",
       "      <th>workclass</th>\n",
       "      <th>fnlwgt</th>\n",
       "      <th>education</th>\n",
       "      <th>education_num</th>\n",
       "      <th>marital_status</th>\n",
       "      <th>occupation</th>\n",
       "      <th>relationship</th>\n",
       "      <th>race</th>\n",
       "      <th>sex</th>\n",
       "      <th>hours_per_week</th>\n",
       "      <th>native_country</th>\n",
       "      <th>capitals</th>\n",
       "    </tr>\n",
       "  </thead>\n",
       "  <tbody>\n",
       "    <tr>\n",
       "      <th>0</th>\n",
       "      <td>39</td>\n",
       "      <td>State-gov</td>\n",
       "      <td>77516.0</td>\n",
       "      <td>Bachelors</td>\n",
       "      <td>13.0</td>\n",
       "      <td>Never-married</td>\n",
       "      <td>Adm-clerical</td>\n",
       "      <td>Not-in-family</td>\n",
       "      <td>White</td>\n",
       "      <td>Male</td>\n",
       "      <td>40.0</td>\n",
       "      <td>United-States</td>\n",
       "      <td>2174.0</td>\n",
       "    </tr>\n",
       "    <tr>\n",
       "      <th>1</th>\n",
       "      <td>50</td>\n",
       "      <td>Self-emp-not-inc</td>\n",
       "      <td>83311.0</td>\n",
       "      <td>Bachelors</td>\n",
       "      <td>13.0</td>\n",
       "      <td>Married-civ-spouse</td>\n",
       "      <td>Exec-managerial</td>\n",
       "      <td>Husband</td>\n",
       "      <td>White</td>\n",
       "      <td>Male</td>\n",
       "      <td>13.0</td>\n",
       "      <td>United-States</td>\n",
       "      <td>0.0</td>\n",
       "    </tr>\n",
       "    <tr>\n",
       "      <th>2</th>\n",
       "      <td>38</td>\n",
       "      <td>Private</td>\n",
       "      <td>215646.0</td>\n",
       "      <td>HS-grad</td>\n",
       "      <td>9.0</td>\n",
       "      <td>Divorced</td>\n",
       "      <td>Handlers-cleaners</td>\n",
       "      <td>Not-in-family</td>\n",
       "      <td>White</td>\n",
       "      <td>Male</td>\n",
       "      <td>40.0</td>\n",
       "      <td>United-States</td>\n",
       "      <td>0.0</td>\n",
       "    </tr>\n",
       "    <tr>\n",
       "      <th>3</th>\n",
       "      <td>53</td>\n",
       "      <td>Private</td>\n",
       "      <td>234721.0</td>\n",
       "      <td>11th</td>\n",
       "      <td>7.0</td>\n",
       "      <td>Married-civ-spouse</td>\n",
       "      <td>Handlers-cleaners</td>\n",
       "      <td>Husband</td>\n",
       "      <td>Black</td>\n",
       "      <td>Male</td>\n",
       "      <td>40.0</td>\n",
       "      <td>United-States</td>\n",
       "      <td>0.0</td>\n",
       "    </tr>\n",
       "    <tr>\n",
       "      <th>4</th>\n",
       "      <td>28</td>\n",
       "      <td>Private</td>\n",
       "      <td>338409.0</td>\n",
       "      <td>Bachelors</td>\n",
       "      <td>13.0</td>\n",
       "      <td>Married-civ-spouse</td>\n",
       "      <td>Prof-specialty</td>\n",
       "      <td>Wife</td>\n",
       "      <td>Black</td>\n",
       "      <td>Female</td>\n",
       "      <td>40.0</td>\n",
       "      <td>Cuba</td>\n",
       "      <td>0.0</td>\n",
       "    </tr>\n",
       "  </tbody>\n",
       "</table>\n",
       "</div>"
      ],
      "text/plain": [
       "   Age          workclass    fnlwgt   education  education_num  \\\n",
       "0   39          State-gov   77516.0   Bachelors           13.0   \n",
       "1   50   Self-emp-not-inc   83311.0   Bachelors           13.0   \n",
       "2   38            Private  215646.0     HS-grad            9.0   \n",
       "3   53            Private  234721.0        11th            7.0   \n",
       "4   28            Private  338409.0   Bachelors           13.0   \n",
       "\n",
       "        marital_status          occupation    relationship    race      sex  \\\n",
       "0        Never-married        Adm-clerical   Not-in-family   White     Male   \n",
       "1   Married-civ-spouse     Exec-managerial         Husband   White     Male   \n",
       "2             Divorced   Handlers-cleaners   Not-in-family   White     Male   \n",
       "3   Married-civ-spouse   Handlers-cleaners         Husband   Black     Male   \n",
       "4   Married-civ-spouse      Prof-specialty            Wife   Black   Female   \n",
       "\n",
       "   hours_per_week  native_country  capitals  \n",
       "0            40.0   United-States    2174.0  \n",
       "1            13.0   United-States       0.0  \n",
       "2            40.0   United-States       0.0  \n",
       "3            40.0   United-States       0.0  \n",
       "4            40.0            Cuba       0.0  "
      ]
     },
     "execution_count": 38,
     "metadata": {},
     "output_type": "execute_result"
    }
   ],
   "source": [
    "data.head()"
   ]
  },
  {
   "cell_type": "code",
   "execution_count": 39,
   "metadata": {
    "collapsed": true
   },
   "outputs": [],
   "source": [
    "#Store the categorical columns in a List\n",
    "catCol = ['workclass','education','marital_status','occupation','relationship','race','sex','native_country']"
   ]
  },
  {
   "cell_type": "code",
   "execution_count": 40,
   "metadata": {
    "collapsed": true
   },
   "outputs": [],
   "source": [
    "dataLabelEncoder = data.copy(deep=True) #DF for storing Label Encoded Data\n",
    "le = LabelEncoder()\n",
    "for item in catCol:#label encoding done for Categorical columns\n",
    "    le.fit(dataLabelEncoder[item])\n",
    "    dataLabelEncoder[item]= le.transform(dataLabelEncoder[item])"
   ]
  },
  {
   "cell_type": "code",
   "execution_count": 41,
   "metadata": {},
   "outputs": [
    {
     "data": {
      "text/html": [
       "<div>\n",
       "<style>\n",
       "    .dataframe thead tr:only-child th {\n",
       "        text-align: right;\n",
       "    }\n",
       "\n",
       "    .dataframe thead th {\n",
       "        text-align: left;\n",
       "    }\n",
       "\n",
       "    .dataframe tbody tr th {\n",
       "        vertical-align: top;\n",
       "    }\n",
       "</style>\n",
       "<table border=\"1\" class=\"dataframe\">\n",
       "  <thead>\n",
       "    <tr style=\"text-align: right;\">\n",
       "      <th></th>\n",
       "      <th>Age</th>\n",
       "      <th>workclass</th>\n",
       "      <th>fnlwgt</th>\n",
       "      <th>education</th>\n",
       "      <th>education_num</th>\n",
       "      <th>marital_status</th>\n",
       "      <th>occupation</th>\n",
       "      <th>relationship</th>\n",
       "      <th>race</th>\n",
       "      <th>sex</th>\n",
       "      <th>hours_per_week</th>\n",
       "      <th>native_country</th>\n",
       "      <th>capitals</th>\n",
       "    </tr>\n",
       "  </thead>\n",
       "  <tbody>\n",
       "    <tr>\n",
       "      <th>0</th>\n",
       "      <td>39</td>\n",
       "      <td>7</td>\n",
       "      <td>77516.0</td>\n",
       "      <td>9</td>\n",
       "      <td>13.0</td>\n",
       "      <td>4</td>\n",
       "      <td>1</td>\n",
       "      <td>1</td>\n",
       "      <td>4</td>\n",
       "      <td>1</td>\n",
       "      <td>40.0</td>\n",
       "      <td>39</td>\n",
       "      <td>2174.0</td>\n",
       "    </tr>\n",
       "    <tr>\n",
       "      <th>1</th>\n",
       "      <td>50</td>\n",
       "      <td>6</td>\n",
       "      <td>83311.0</td>\n",
       "      <td>9</td>\n",
       "      <td>13.0</td>\n",
       "      <td>2</td>\n",
       "      <td>4</td>\n",
       "      <td>0</td>\n",
       "      <td>4</td>\n",
       "      <td>1</td>\n",
       "      <td>13.0</td>\n",
       "      <td>39</td>\n",
       "      <td>0.0</td>\n",
       "    </tr>\n",
       "    <tr>\n",
       "      <th>2</th>\n",
       "      <td>38</td>\n",
       "      <td>4</td>\n",
       "      <td>215646.0</td>\n",
       "      <td>11</td>\n",
       "      <td>9.0</td>\n",
       "      <td>0</td>\n",
       "      <td>6</td>\n",
       "      <td>1</td>\n",
       "      <td>4</td>\n",
       "      <td>1</td>\n",
       "      <td>40.0</td>\n",
       "      <td>39</td>\n",
       "      <td>0.0</td>\n",
       "    </tr>\n",
       "    <tr>\n",
       "      <th>3</th>\n",
       "      <td>53</td>\n",
       "      <td>4</td>\n",
       "      <td>234721.0</td>\n",
       "      <td>1</td>\n",
       "      <td>7.0</td>\n",
       "      <td>2</td>\n",
       "      <td>6</td>\n",
       "      <td>0</td>\n",
       "      <td>2</td>\n",
       "      <td>1</td>\n",
       "      <td>40.0</td>\n",
       "      <td>39</td>\n",
       "      <td>0.0</td>\n",
       "    </tr>\n",
       "    <tr>\n",
       "      <th>4</th>\n",
       "      <td>28</td>\n",
       "      <td>4</td>\n",
       "      <td>338409.0</td>\n",
       "      <td>9</td>\n",
       "      <td>13.0</td>\n",
       "      <td>2</td>\n",
       "      <td>10</td>\n",
       "      <td>5</td>\n",
       "      <td>2</td>\n",
       "      <td>0</td>\n",
       "      <td>40.0</td>\n",
       "      <td>5</td>\n",
       "      <td>0.0</td>\n",
       "    </tr>\n",
       "  </tbody>\n",
       "</table>\n",
       "</div>"
      ],
      "text/plain": [
       "   Age  workclass    fnlwgt  education  education_num  marital_status  \\\n",
       "0   39          7   77516.0          9           13.0               4   \n",
       "1   50          6   83311.0          9           13.0               2   \n",
       "2   38          4  215646.0         11            9.0               0   \n",
       "3   53          4  234721.0          1            7.0               2   \n",
       "4   28          4  338409.0          9           13.0               2   \n",
       "\n",
       "   occupation  relationship  race  sex  hours_per_week  native_country  \\\n",
       "0           1             1     4    1            40.0              39   \n",
       "1           4             0     4    1            13.0              39   \n",
       "2           6             1     4    1            40.0              39   \n",
       "3           6             0     2    1            40.0              39   \n",
       "4          10             5     2    0            40.0               5   \n",
       "\n",
       "   capitals  \n",
       "0    2174.0  \n",
       "1       0.0  \n",
       "2       0.0  \n",
       "3       0.0  \n",
       "4       0.0  "
      ]
     },
     "execution_count": 41,
     "metadata": {},
     "output_type": "execute_result"
    }
   ],
   "source": [
    "dataLabelEncoder.head()"
   ]
  },
  {
   "cell_type": "code",
   "execution_count": 42,
   "metadata": {},
   "outputs": [
    {
     "data": {
      "text/html": [
       "<div>\n",
       "<style>\n",
       "    .dataframe thead tr:only-child th {\n",
       "        text-align: right;\n",
       "    }\n",
       "\n",
       "    .dataframe thead th {\n",
       "        text-align: left;\n",
       "    }\n",
       "\n",
       "    .dataframe tbody tr th {\n",
       "        vertical-align: top;\n",
       "    }\n",
       "</style>\n",
       "<table border=\"1\" class=\"dataframe\">\n",
       "  <thead>\n",
       "    <tr style=\"text-align: right;\">\n",
       "      <th></th>\n",
       "      <th>Age</th>\n",
       "      <th>fnlwgt</th>\n",
       "      <th>education_num</th>\n",
       "      <th>hours_per_week</th>\n",
       "      <th>capitals</th>\n",
       "      <th>workclass_ ?</th>\n",
       "      <th>workclass_ Federal-gov</th>\n",
       "      <th>workclass_ Local-gov</th>\n",
       "      <th>workclass_ Never-worked</th>\n",
       "      <th>workclass_ Private</th>\n",
       "      <th>...</th>\n",
       "      <th>native_country_ Portugal</th>\n",
       "      <th>native_country_ Puerto-Rico</th>\n",
       "      <th>native_country_ Scotland</th>\n",
       "      <th>native_country_ South</th>\n",
       "      <th>native_country_ Taiwan</th>\n",
       "      <th>native_country_ Thailand</th>\n",
       "      <th>native_country_ Trinadad&amp;Tobago</th>\n",
       "      <th>native_country_ United-States</th>\n",
       "      <th>native_country_ Vietnam</th>\n",
       "      <th>native_country_ Yugoslavia</th>\n",
       "    </tr>\n",
       "  </thead>\n",
       "  <tbody>\n",
       "    <tr>\n",
       "      <th>0</th>\n",
       "      <td>39</td>\n",
       "      <td>77516.0</td>\n",
       "      <td>13.0</td>\n",
       "      <td>40.0</td>\n",
       "      <td>2174.0</td>\n",
       "      <td>0</td>\n",
       "      <td>0</td>\n",
       "      <td>0</td>\n",
       "      <td>0</td>\n",
       "      <td>0</td>\n",
       "      <td>...</td>\n",
       "      <td>0</td>\n",
       "      <td>0</td>\n",
       "      <td>0</td>\n",
       "      <td>0</td>\n",
       "      <td>0</td>\n",
       "      <td>0</td>\n",
       "      <td>0</td>\n",
       "      <td>1</td>\n",
       "      <td>0</td>\n",
       "      <td>0</td>\n",
       "    </tr>\n",
       "    <tr>\n",
       "      <th>1</th>\n",
       "      <td>50</td>\n",
       "      <td>83311.0</td>\n",
       "      <td>13.0</td>\n",
       "      <td>13.0</td>\n",
       "      <td>0.0</td>\n",
       "      <td>0</td>\n",
       "      <td>0</td>\n",
       "      <td>0</td>\n",
       "      <td>0</td>\n",
       "      <td>0</td>\n",
       "      <td>...</td>\n",
       "      <td>0</td>\n",
       "      <td>0</td>\n",
       "      <td>0</td>\n",
       "      <td>0</td>\n",
       "      <td>0</td>\n",
       "      <td>0</td>\n",
       "      <td>0</td>\n",
       "      <td>1</td>\n",
       "      <td>0</td>\n",
       "      <td>0</td>\n",
       "    </tr>\n",
       "    <tr>\n",
       "      <th>2</th>\n",
       "      <td>38</td>\n",
       "      <td>215646.0</td>\n",
       "      <td>9.0</td>\n",
       "      <td>40.0</td>\n",
       "      <td>0.0</td>\n",
       "      <td>0</td>\n",
       "      <td>0</td>\n",
       "      <td>0</td>\n",
       "      <td>0</td>\n",
       "      <td>1</td>\n",
       "      <td>...</td>\n",
       "      <td>0</td>\n",
       "      <td>0</td>\n",
       "      <td>0</td>\n",
       "      <td>0</td>\n",
       "      <td>0</td>\n",
       "      <td>0</td>\n",
       "      <td>0</td>\n",
       "      <td>1</td>\n",
       "      <td>0</td>\n",
       "      <td>0</td>\n",
       "    </tr>\n",
       "    <tr>\n",
       "      <th>3</th>\n",
       "      <td>53</td>\n",
       "      <td>234721.0</td>\n",
       "      <td>7.0</td>\n",
       "      <td>40.0</td>\n",
       "      <td>0.0</td>\n",
       "      <td>0</td>\n",
       "      <td>0</td>\n",
       "      <td>0</td>\n",
       "      <td>0</td>\n",
       "      <td>1</td>\n",
       "      <td>...</td>\n",
       "      <td>0</td>\n",
       "      <td>0</td>\n",
       "      <td>0</td>\n",
       "      <td>0</td>\n",
       "      <td>0</td>\n",
       "      <td>0</td>\n",
       "      <td>0</td>\n",
       "      <td>1</td>\n",
       "      <td>0</td>\n",
       "      <td>0</td>\n",
       "    </tr>\n",
       "    <tr>\n",
       "      <th>4</th>\n",
       "      <td>28</td>\n",
       "      <td>338409.0</td>\n",
       "      <td>13.0</td>\n",
       "      <td>40.0</td>\n",
       "      <td>0.0</td>\n",
       "      <td>0</td>\n",
       "      <td>0</td>\n",
       "      <td>0</td>\n",
       "      <td>0</td>\n",
       "      <td>1</td>\n",
       "      <td>...</td>\n",
       "      <td>0</td>\n",
       "      <td>0</td>\n",
       "      <td>0</td>\n",
       "      <td>0</td>\n",
       "      <td>0</td>\n",
       "      <td>0</td>\n",
       "      <td>0</td>\n",
       "      <td>0</td>\n",
       "      <td>0</td>\n",
       "      <td>0</td>\n",
       "    </tr>\n",
       "  </tbody>\n",
       "</table>\n",
       "<p>5 rows × 107 columns</p>\n",
       "</div>"
      ],
      "text/plain": [
       "   Age    fnlwgt  education_num  hours_per_week  capitals  workclass_ ?  \\\n",
       "0   39   77516.0           13.0            40.0    2174.0             0   \n",
       "1   50   83311.0           13.0            13.0       0.0             0   \n",
       "2   38  215646.0            9.0            40.0       0.0             0   \n",
       "3   53  234721.0            7.0            40.0       0.0             0   \n",
       "4   28  338409.0           13.0            40.0       0.0             0   \n",
       "\n",
       "   workclass_ Federal-gov  workclass_ Local-gov  workclass_ Never-worked  \\\n",
       "0                       0                     0                        0   \n",
       "1                       0                     0                        0   \n",
       "2                       0                     0                        0   \n",
       "3                       0                     0                        0   \n",
       "4                       0                     0                        0   \n",
       "\n",
       "   workclass_ Private             ...              native_country_ Portugal  \\\n",
       "0                   0             ...                                     0   \n",
       "1                   0             ...                                     0   \n",
       "2                   1             ...                                     0   \n",
       "3                   1             ...                                     0   \n",
       "4                   1             ...                                     0   \n",
       "\n",
       "   native_country_ Puerto-Rico  native_country_ Scotland  \\\n",
       "0                            0                         0   \n",
       "1                            0                         0   \n",
       "2                            0                         0   \n",
       "3                            0                         0   \n",
       "4                            0                         0   \n",
       "\n",
       "   native_country_ South  native_country_ Taiwan  native_country_ Thailand  \\\n",
       "0                      0                       0                         0   \n",
       "1                      0                       0                         0   \n",
       "2                      0                       0                         0   \n",
       "3                      0                       0                         0   \n",
       "4                      0                       0                         0   \n",
       "\n",
       "   native_country_ Trinadad&Tobago  native_country_ United-States  \\\n",
       "0                                0                              1   \n",
       "1                                0                              1   \n",
       "2                                0                              1   \n",
       "3                                0                              1   \n",
       "4                                0                              0   \n",
       "\n",
       "   native_country_ Vietnam  native_country_ Yugoslavia  \n",
       "0                        0                           0  \n",
       "1                        0                           0  \n",
       "2                        0                           0  \n",
       "3                        0                           0  \n",
       "4                        0                           0  \n",
       "\n",
       "[5 rows x 107 columns]"
      ]
     },
     "execution_count": 42,
     "metadata": {},
     "output_type": "execute_result"
    }
   ],
   "source": [
    "dataOneHotEncoding = pd.get_dummies(data) #DF for storing One-Hot Encoded data\n",
    "dataOneHotEncoding.head()"
   ]
  },
  {
   "cell_type": "code",
   "execution_count": 43,
   "metadata": {
    "collapsed": true
   },
   "outputs": [],
   "source": [
    "#Split the Label Encoded Data into training and testing\n",
    "x_train, x_test, y_train, y_test = train_test_split(dataLabelEncoder,label,test_size = 0.3)"
   ]
  },
  {
   "cell_type": "code",
   "execution_count": 44,
   "metadata": {
    "collapsed": true
   },
   "outputs": [],
   "source": [
    "#Split the Label Encoded Data into training and testing\n",
    "X_train, X_test, Y_train, Y_test = train_test_split(dataOneHotEncoding,label,test_size = 0.3)"
   ]
  },
  {
   "cell_type": "code",
   "execution_count": 45,
   "metadata": {
    "collapsed": true
   },
   "outputs": [],
   "source": [
    "#Utility Functions"
   ]
  },
  {
   "cell_type": "code",
   "execution_count": 46,
   "metadata": {
    "collapsed": true
   },
   "outputs": [],
   "source": [
    "# Function to make predictions\n",
    "def prediction(X_test, clf_object):\n",
    " \n",
    "    # Predicton on test with giniIndex\n",
    "    y_pred = clf_object.predict(X_test)\n",
    "    #print(\"Predicted values:\")\n",
    "    #print(y_pred)\n",
    "    return y_pred"
   ]
  },
  {
   "cell_type": "code",
   "execution_count": 47,
   "metadata": {
    "collapsed": true
   },
   "outputs": [],
   "source": [
    "# Function to calculate accuracy\n",
    "def cal_accuracy(y_test, y_pred):\n",
    "     \n",
    "    print(\"Confusion Matrix: \",\n",
    "        confusion_matrix(y_test, y_pred))\n",
    "     \n",
    "    print (\"Accuracy : \",\n",
    "    accuracy_score(y_test,y_pred)*100)\n",
    "     \n",
    "    print(\"Report : \",\n",
    "    classification_report(y_test, y_pred))"
   ]
  },
  {
   "cell_type": "code",
   "execution_count": 48,
   "metadata": {
    "collapsed": true
   },
   "outputs": [],
   "source": [
    "# Function to display feature importance in a proper format\n",
    "def GetTreeFeatureImportance(tree, XDataFrame ):\n",
    "    feature_importances = pd.DataFrame(tree.feature_importances_,\n",
    "                                   index = XDataFrame.columns,\n",
    "                                    columns=['importance']).sort_values('importance',ascending=False)\n",
    "    print(\"Important Features..\")\n",
    "    print(feature_importances)\n",
    "    "
   ]
  },
  {
   "cell_type": "markdown",
   "metadata": {},
   "source": [
    "# Decision Tree Models - Since the Output is Categorical\n"
   ]
  },
  {
   "cell_type": "code",
   "execution_count": 49,
   "metadata": {
    "collapsed": true
   },
   "outputs": [],
   "source": [
    "             ################### DECISION TREE (GINI) WITH LABEL ENCODED DATA ###################################"
   ]
  },
  {
   "cell_type": "code",
   "execution_count": 50,
   "metadata": {
    "collapsed": true
   },
   "outputs": [],
   "source": [
    "# Decision tree with gini\n",
    "clf_gini = DecisionTreeClassifier(criterion = \"gini\",\n",
    "            random_state = 100,max_depth=3, min_samples_leaf=5)"
   ]
  },
  {
   "cell_type": "code",
   "execution_count": 51,
   "metadata": {},
   "outputs": [
    {
     "data": {
      "text/plain": [
       "DecisionTreeClassifier(class_weight=None, criterion='gini', max_depth=3,\n",
       "            max_features=None, max_leaf_nodes=None,\n",
       "            min_impurity_decrease=0.0, min_impurity_split=None,\n",
       "            min_samples_leaf=5, min_samples_split=2,\n",
       "            min_weight_fraction_leaf=0.0, presort=False, random_state=100,\n",
       "            splitter='best')"
      ]
     },
     "execution_count": 51,
     "metadata": {},
     "output_type": "execute_result"
    }
   ],
   "source": [
    "#train the model for LabelEncoded dataset\n",
    "clf_gini.fit(x_train, y_train)"
   ]
  },
  {
   "cell_type": "code",
   "execution_count": 52,
   "metadata": {},
   "outputs": [
    {
     "data": {
      "text/plain": [
       "0.83956828219602797"
      ]
     },
     "execution_count": 52,
     "metadata": {},
     "output_type": "execute_result"
    }
   ],
   "source": [
    "clf_gini.score(x_train, y_train) #Training Accuracy"
   ]
  },
  {
   "cell_type": "code",
   "execution_count": 53,
   "metadata": {},
   "outputs": [
    {
     "data": {
      "text/plain": [
       "0.8398280215655497"
      ]
     },
     "execution_count": 53,
     "metadata": {},
     "output_type": "execute_result"
    }
   ],
   "source": [
    "clf_gini.score(x_test,y_test) # Testing Accuracy"
   ]
  },
  {
   "cell_type": "code",
   "execution_count": 54,
   "metadata": {},
   "outputs": [
    {
     "name": "stdout",
     "output_type": "stream",
     "text": [
      "Confusion Matrix:  [[10625   514]\n",
      " [ 1833  1681]]\n",
      "Accuracy :  83.9828021566\n",
      "Report :               precision    recall  f1-score   support\n",
      "\n",
      "      <=50K       0.85      0.95      0.90     11139\n",
      "       >50K       0.77      0.48      0.59      3514\n",
      "\n",
      "avg / total       0.83      0.84      0.83     14653\n",
      "\n"
     ]
    }
   ],
   "source": [
    "# Prediction using gini\n",
    "y_pred_gini = prediction(x_test, clf_gini)\n",
    "cal_accuracy(y_test, y_pred_gini)"
   ]
  },
  {
   "cell_type": "code",
   "execution_count": 55,
   "metadata": {
    "scrolled": true
   },
   "outputs": [
    {
     "name": "stdout",
     "output_type": "stream",
     "text": [
      "Important Features..\n",
      "                importance\n",
      "relationship      0.529291\n",
      "capitals          0.271322\n",
      "education_num     0.198059\n",
      "Age               0.001328\n",
      "workclass         0.000000\n",
      "fnlwgt            0.000000\n",
      "education         0.000000\n",
      "marital_status    0.000000\n",
      "occupation        0.000000\n",
      "race              0.000000\n",
      "sex               0.000000\n",
      "hours_per_week    0.000000\n",
      "native_country    0.000000\n"
     ]
    }
   ],
   "source": [
    "#Important features Determinig the prediction\n",
    "GetTreeFeatureImportance(clf_gini, x_train)"
   ]
  },
  {
   "cell_type": "raw",
   "metadata": {},
   "source": [
    "For Label Encoded Data\n",
    "###############################################################################################################################\n",
    "From the above Decision Tree Prediction model with gini the accuracy we get is 83% and 83% respectively for train and test data\n",
    "###############################################################################################################################"
   ]
  },
  {
   "cell_type": "raw",
   "metadata": {},
   "source": [
    "################################################################################################################################################################################################################################################################"
   ]
  },
  {
   "cell_type": "code",
   "execution_count": 56,
   "metadata": {
    "collapsed": true
   },
   "outputs": [],
   "source": [
    "             ################### DECISION TREE (GINI) WITH ONE HOT ENCODED DATA ###################################"
   ]
  },
  {
   "cell_type": "code",
   "execution_count": 57,
   "metadata": {},
   "outputs": [
    {
     "data": {
      "text/plain": [
       "DecisionTreeClassifier(class_weight=None, criterion='gini', max_depth=3,\n",
       "            max_features=None, max_leaf_nodes=None,\n",
       "            min_impurity_decrease=0.0, min_impurity_split=None,\n",
       "            min_samples_leaf=5, min_samples_split=2,\n",
       "            min_weight_fraction_leaf=0.0, presort=False, random_state=100,\n",
       "            splitter='best')"
      ]
     },
     "execution_count": 57,
     "metadata": {},
     "output_type": "execute_result"
    }
   ],
   "source": [
    "#train the model for OneHotEncoded dataset\n",
    "clf_gini.fit(X_train, Y_train)"
   ]
  },
  {
   "cell_type": "code",
   "execution_count": 58,
   "metadata": {},
   "outputs": [
    {
     "data": {
      "text/plain": [
       "0.84378016321038929"
      ]
     },
     "execution_count": 58,
     "metadata": {},
     "output_type": "execute_result"
    }
   ],
   "source": [
    "clf_gini.score(X_train, Y_train) #Training Accuracy"
   ]
  },
  {
   "cell_type": "code",
   "execution_count": 59,
   "metadata": {},
   "outputs": [
    {
     "data": {
      "text/plain": [
       "0.84255783798539552"
      ]
     },
     "execution_count": 59,
     "metadata": {},
     "output_type": "execute_result"
    }
   ],
   "source": [
    "clf_gini.score(X_test,Y_test) # Testing Accuracy"
   ]
  },
  {
   "cell_type": "code",
   "execution_count": 60,
   "metadata": {},
   "outputs": [
    {
     "name": "stdout",
     "output_type": "stream",
     "text": [
      "Confusion Matrix:  [[10478   702]\n",
      " [ 1605  1868]]\n",
      "Accuracy :  84.2557837985\n",
      "Report :               precision    recall  f1-score   support\n",
      "\n",
      "      <=50K       0.87      0.94      0.90     11180\n",
      "       >50K       0.73      0.54      0.62      3473\n",
      "\n",
      "avg / total       0.83      0.84      0.83     14653\n",
      "\n"
     ]
    }
   ],
   "source": [
    "# Prediction using gini\n",
    "Y_pred_gini = prediction(X_test, clf_gini)\n",
    "cal_accuracy(Y_test, Y_pred_gini)"
   ]
  },
  {
   "cell_type": "code",
   "execution_count": 61,
   "metadata": {
    "scrolled": true
   },
   "outputs": [
    {
     "name": "stdout",
     "output_type": "stream",
     "text": [
      "Important Features..\n",
      "                                       importance\n",
      "marital_status_ Married-civ-spouse       0.533747\n",
      "capitals                                 0.241242\n",
      "education_num                            0.223753\n",
      "Age                                      0.001258\n",
      "native_country_ China                    0.000000\n",
      "native_country_ Guatemala                0.000000\n",
      "native_country_ Greece                   0.000000\n",
      "native_country_ Germany                  0.000000\n",
      "native_country_ France                   0.000000\n",
      "native_country_ England                  0.000000\n",
      "native_country_ El-Salvador              0.000000\n",
      "native_country_ Ecuador                  0.000000\n",
      "native_country_ Dominican-Republic       0.000000\n",
      "native_country_ Cuba                     0.000000\n",
      "native_country_ Columbia                 0.000000\n",
      "native_country_ Canada                   0.000000\n",
      "native_country_ Holand-Netherlands       0.000000\n",
      "native_country_ Cambodia                 0.000000\n",
      "native_country_ ?                        0.000000\n",
      "sex_ Male                                0.000000\n",
      "sex_ Female                              0.000000\n",
      "race_ White                              0.000000\n",
      "race_ Other                              0.000000\n",
      "race_ Black                              0.000000\n",
      "race_ Asian-Pac-Islander                 0.000000\n",
      "race_ Amer-Indian-Eskimo                 0.000000\n",
      "relationship_ Wife                       0.000000\n",
      "native_country_ Haiti                    0.000000\n",
      "native_country_ Hong                     0.000000\n",
      "native_country_ Honduras                 0.000000\n",
      "...                                           ...\n",
      "workclass_ Federal-gov                   0.000000\n",
      "workclass_ ?                             0.000000\n",
      "hours_per_week                           0.000000\n",
      "education_ Masters                       0.000000\n",
      "education_ Prof-school                   0.000000\n",
      "fnlwgt                                   0.000000\n",
      "occupation_ Farming-fishing              0.000000\n",
      "relationship_ Husband                    0.000000\n",
      "occupation_ Transport-moving             0.000000\n",
      "occupation_ Tech-support                 0.000000\n",
      "occupation_ Sales                        0.000000\n",
      "occupation_ Protective-serv              0.000000\n",
      "occupation_ Prof-specialty               0.000000\n",
      "occupation_ Priv-house-serv              0.000000\n",
      "occupation_ Other-service                0.000000\n",
      "occupation_ Machine-op-inspct            0.000000\n",
      "occupation_ Handlers-cleaners            0.000000\n",
      "occupation_ Exec-managerial              0.000000\n",
      "education_ Some-college                  0.000000\n",
      "occupation_ Craft-repair                 0.000000\n",
      "occupation_ Armed-Forces                 0.000000\n",
      "occupation_ Adm-clerical                 0.000000\n",
      "occupation_ ?                            0.000000\n",
      "marital_status_ Widowed                  0.000000\n",
      "marital_status_ Separated                0.000000\n",
      "marital_status_ Never-married            0.000000\n",
      "marital_status_ Married-spouse-absent    0.000000\n",
      "marital_status_ Married-AF-spouse        0.000000\n",
      "marital_status_ Divorced                 0.000000\n",
      "native_country_ Yugoslavia               0.000000\n",
      "\n",
      "[107 rows x 1 columns]\n"
     ]
    }
   ],
   "source": [
    "#Important features Determinig the prediction\n",
    "GetTreeFeatureImportance(clf_gini, X_train)"
   ]
  },
  {
   "cell_type": "raw",
   "metadata": {},
   "source": [
    "For One Hot Encoded Data\n",
    "###############################################################################################################################\n",
    "From the above Decision Tree Prediction model with gini the accuracy we get is 84% and 84% respectively for train and test data\n",
    "###############################################################################################################################"
   ]
  },
  {
   "cell_type": "raw",
   "metadata": {},
   "source": [
    "################################################################################################################################################################################################################################################################"
   ]
  },
  {
   "cell_type": "code",
   "execution_count": 62,
   "metadata": {
    "collapsed": true
   },
   "outputs": [],
   "source": [
    "             ################### DECISION TREE (ENTROPY) WITH LABEL ENCODED DATA ###################################"
   ]
  },
  {
   "cell_type": "code",
   "execution_count": 63,
   "metadata": {
    "collapsed": true
   },
   "outputs": [],
   "source": [
    "# Decision tree with entropy\n",
    "clf_entropy = DecisionTreeClassifier(\n",
    "            criterion = \"entropy\", random_state = 100,\n",
    "            max_depth = 3, min_samples_leaf = 5)"
   ]
  },
  {
   "cell_type": "code",
   "execution_count": 64,
   "metadata": {},
   "outputs": [
    {
     "data": {
      "text/plain": [
       "DecisionTreeClassifier(class_weight=None, criterion='entropy', max_depth=3,\n",
       "            max_features=None, max_leaf_nodes=None,\n",
       "            min_impurity_decrease=0.0, min_impurity_split=None,\n",
       "            min_samples_leaf=5, min_samples_split=2,\n",
       "            min_weight_fraction_leaf=0.0, presort=False, random_state=100,\n",
       "            splitter='best')"
      ]
     },
     "execution_count": 64,
     "metadata": {},
     "output_type": "execute_result"
    }
   ],
   "source": [
    "#train the model\n",
    "clf_entropy.fit(x_train, y_train)"
   ]
  },
  {
   "cell_type": "code",
   "execution_count": 65,
   "metadata": {},
   "outputs": [
    {
     "data": {
      "text/plain": [
       "0.83956828219602797"
      ]
     },
     "execution_count": 65,
     "metadata": {},
     "output_type": "execute_result"
    }
   ],
   "source": [
    "clf_entropy.score(x_train, y_train) #Training accuracy"
   ]
  },
  {
   "cell_type": "code",
   "execution_count": 66,
   "metadata": {},
   "outputs": [
    {
     "data": {
      "text/plain": [
       "0.8398280215655497"
      ]
     },
     "execution_count": 66,
     "metadata": {},
     "output_type": "execute_result"
    }
   ],
   "source": [
    "clf_entropy.score(x_test, y_test) #Testing accuracy"
   ]
  },
  {
   "cell_type": "code",
   "execution_count": 67,
   "metadata": {},
   "outputs": [
    {
     "name": "stdout",
     "output_type": "stream",
     "text": [
      "Confusion Matrix:  [[10625   514]\n",
      " [ 1833  1681]]\n",
      "Accuracy :  83.9828021566\n",
      "Report :               precision    recall  f1-score   support\n",
      "\n",
      "      <=50K       0.85      0.95      0.90     11139\n",
      "       >50K       0.77      0.48      0.59      3514\n",
      "\n",
      "avg / total       0.83      0.84      0.83     14653\n",
      "\n"
     ]
    }
   ],
   "source": [
    "# Prediction using entropy\n",
    "y_pred_entropy = prediction(x_test, clf_entropy)\n",
    "cal_accuracy(y_test, y_pred_entropy)"
   ]
  },
  {
   "cell_type": "code",
   "execution_count": 68,
   "metadata": {},
   "outputs": [
    {
     "name": "stdout",
     "output_type": "stream",
     "text": [
      "Important Features..\n",
      "                importance\n",
      "relationship      0.575535\n",
      "capitals          0.273262\n",
      "education_num     0.149200\n",
      "Age               0.002003\n",
      "workclass         0.000000\n",
      "fnlwgt            0.000000\n",
      "education         0.000000\n",
      "marital_status    0.000000\n",
      "occupation        0.000000\n",
      "race              0.000000\n",
      "sex               0.000000\n",
      "hours_per_week    0.000000\n",
      "native_country    0.000000\n"
     ]
    }
   ],
   "source": [
    "GetTreeFeatureImportance(clf_entropy,x_test)"
   ]
  },
  {
   "cell_type": "raw",
   "metadata": {},
   "source": [
    "###############################################################################################################################\n",
    "From the above Decision Tree Prediction model with entropy the accuracy we get is 83% and 83% respectively for train and test data\n",
    "###############################################################################################################################"
   ]
  },
  {
   "cell_type": "raw",
   "metadata": {},
   "source": [
    "################################################################################################################################################################################################################################################################"
   ]
  },
  {
   "cell_type": "code",
   "execution_count": 69,
   "metadata": {
    "collapsed": true
   },
   "outputs": [],
   "source": [
    "             ################### DECISION TREE (ENTROPY) WITH ONE HOT ENCODED DATA ###################################"
   ]
  },
  {
   "cell_type": "code",
   "execution_count": 70,
   "metadata": {},
   "outputs": [
    {
     "data": {
      "text/plain": [
       "DecisionTreeClassifier(class_weight=None, criterion='entropy', max_depth=3,\n",
       "            max_features=None, max_leaf_nodes=None,\n",
       "            min_impurity_decrease=0.0, min_impurity_split=None,\n",
       "            min_samples_leaf=5, min_samples_split=2,\n",
       "            min_weight_fraction_leaf=0.0, presort=False, random_state=100,\n",
       "            splitter='best')"
      ]
     },
     "execution_count": 70,
     "metadata": {},
     "output_type": "execute_result"
    }
   ],
   "source": [
    "#train the model\n",
    "clf_entropy.fit(X_train, Y_train)"
   ]
  },
  {
   "cell_type": "code",
   "execution_count": 71,
   "metadata": {},
   "outputs": [
    {
     "data": {
      "text/plain": [
       "0.84378016321038929"
      ]
     },
     "execution_count": 71,
     "metadata": {},
     "output_type": "execute_result"
    }
   ],
   "source": [
    "clf_entropy.score(X_train, Y_train) #Training accuracy"
   ]
  },
  {
   "cell_type": "code",
   "execution_count": 72,
   "metadata": {},
   "outputs": [
    {
     "data": {
      "text/plain": [
       "0.84255783798539552"
      ]
     },
     "execution_count": 72,
     "metadata": {},
     "output_type": "execute_result"
    }
   ],
   "source": [
    "clf_entropy.score(X_test, Y_test) #Testing accuracy"
   ]
  },
  {
   "cell_type": "code",
   "execution_count": 73,
   "metadata": {},
   "outputs": [
    {
     "name": "stdout",
     "output_type": "stream",
     "text": [
      "Confusion Matrix:  [[10478   702]\n",
      " [ 1605  1868]]\n",
      "Accuracy :  84.2557837985\n",
      "Report :               precision    recall  f1-score   support\n",
      "\n",
      "      <=50K       0.87      0.94      0.90     11180\n",
      "       >50K       0.73      0.54      0.62      3473\n",
      "\n",
      "avg / total       0.83      0.84      0.83     14653\n",
      "\n"
     ]
    }
   ],
   "source": [
    "# Prediction using entropy\n",
    "Y_pred_entropy = prediction(X_test, clf_entropy)\n",
    "cal_accuracy(Y_test, Y_pred_entropy)"
   ]
  },
  {
   "cell_type": "code",
   "execution_count": 74,
   "metadata": {
    "scrolled": true
   },
   "outputs": [
    {
     "name": "stdout",
     "output_type": "stream",
     "text": [
      "Important Features..\n",
      "                                       importance\n",
      "marital_status_ Married-civ-spouse       0.551902\n",
      "capitals                                 0.243471\n",
      "education_num                            0.202808\n",
      "Age                                      0.001819\n",
      "native_country_ China                    0.000000\n",
      "native_country_ Guatemala                0.000000\n",
      "native_country_ Greece                   0.000000\n",
      "native_country_ Germany                  0.000000\n",
      "native_country_ France                   0.000000\n",
      "native_country_ England                  0.000000\n",
      "native_country_ El-Salvador              0.000000\n",
      "native_country_ Ecuador                  0.000000\n",
      "native_country_ Dominican-Republic       0.000000\n",
      "native_country_ Cuba                     0.000000\n",
      "native_country_ Columbia                 0.000000\n",
      "native_country_ Canada                   0.000000\n",
      "native_country_ Holand-Netherlands       0.000000\n",
      "native_country_ Cambodia                 0.000000\n",
      "native_country_ ?                        0.000000\n",
      "sex_ Male                                0.000000\n",
      "sex_ Female                              0.000000\n",
      "race_ White                              0.000000\n",
      "race_ Other                              0.000000\n",
      "race_ Black                              0.000000\n",
      "race_ Asian-Pac-Islander                 0.000000\n",
      "race_ Amer-Indian-Eskimo                 0.000000\n",
      "relationship_ Wife                       0.000000\n",
      "native_country_ Haiti                    0.000000\n",
      "native_country_ Hong                     0.000000\n",
      "native_country_ Honduras                 0.000000\n",
      "...                                           ...\n",
      "workclass_ Federal-gov                   0.000000\n",
      "workclass_ ?                             0.000000\n",
      "hours_per_week                           0.000000\n",
      "education_ Masters                       0.000000\n",
      "education_ Prof-school                   0.000000\n",
      "fnlwgt                                   0.000000\n",
      "occupation_ Farming-fishing              0.000000\n",
      "relationship_ Husband                    0.000000\n",
      "occupation_ Transport-moving             0.000000\n",
      "occupation_ Tech-support                 0.000000\n",
      "occupation_ Sales                        0.000000\n",
      "occupation_ Protective-serv              0.000000\n",
      "occupation_ Prof-specialty               0.000000\n",
      "occupation_ Priv-house-serv              0.000000\n",
      "occupation_ Other-service                0.000000\n",
      "occupation_ Machine-op-inspct            0.000000\n",
      "occupation_ Handlers-cleaners            0.000000\n",
      "occupation_ Exec-managerial              0.000000\n",
      "education_ Some-college                  0.000000\n",
      "occupation_ Craft-repair                 0.000000\n",
      "occupation_ Armed-Forces                 0.000000\n",
      "occupation_ Adm-clerical                 0.000000\n",
      "occupation_ ?                            0.000000\n",
      "marital_status_ Widowed                  0.000000\n",
      "marital_status_ Separated                0.000000\n",
      "marital_status_ Never-married            0.000000\n",
      "marital_status_ Married-spouse-absent    0.000000\n",
      "marital_status_ Married-AF-spouse        0.000000\n",
      "marital_status_ Divorced                 0.000000\n",
      "native_country_ Yugoslavia               0.000000\n",
      "\n",
      "[107 rows x 1 columns]\n"
     ]
    }
   ],
   "source": [
    "GetTreeFeatureImportance(clf_entropy,X_test)"
   ]
  },
  {
   "cell_type": "raw",
   "metadata": {},
   "source": [
    "For One Hot Encoded Data\n",
    "###############################################################################################################################\n",
    "From the above Decision Tree Prediction model with entropy the accuracy we get is 84% and 84% respectively for train and test data\n",
    "###############################################################################################################################"
   ]
  },
  {
   "cell_type": "raw",
   "metadata": {},
   "source": [
    "################################################################################################################################################################################################################################################################"
   ]
  },
  {
   "cell_type": "markdown",
   "metadata": {},
   "source": [
    "# Random Forest Classifier Models"
   ]
  },
  {
   "cell_type": "code",
   "execution_count": 75,
   "metadata": {
    "collapsed": true
   },
   "outputs": [],
   "source": [
    "             ################### RANDOM FOREST WITH LABEL ENCODED DATA ###################################"
   ]
  },
  {
   "cell_type": "code",
   "execution_count": 76,
   "metadata": {},
   "outputs": [
    {
     "data": {
      "text/plain": [
       "RandomForestClassifier(bootstrap=True, class_weight=None, criterion='gini',\n",
       "            max_depth=5, max_features='auto', max_leaf_nodes=None,\n",
       "            min_impurity_decrease=0.0, min_impurity_split=None,\n",
       "            min_samples_leaf=1, min_samples_split=2,\n",
       "            min_weight_fraction_leaf=0.0, n_estimators=10, n_jobs=1,\n",
       "            oob_score=False, random_state=None, verbose=0,\n",
       "            warm_start=False)"
      ]
     },
     "execution_count": 76,
     "metadata": {},
     "output_type": "execute_result"
    }
   ],
   "source": [
    "rndTree = RandomForestClassifier(n_estimators=10, max_depth = 5)\n",
    "rndTree.fit(x_train,y_train)"
   ]
  },
  {
   "cell_type": "code",
   "execution_count": 77,
   "metadata": {},
   "outputs": [
    {
     "data": {
      "text/plain": [
       "0.84281494047793148"
      ]
     },
     "execution_count": 77,
     "metadata": {},
     "output_type": "execute_result"
    }
   ],
   "source": [
    "rndTree.score(x_train,y_train) #Training accuracy"
   ]
  },
  {
   "cell_type": "code",
   "execution_count": 78,
   "metadata": {},
   "outputs": [
    {
     "data": {
      "text/plain": [
       "0.8424895925748993"
      ]
     },
     "execution_count": 78,
     "metadata": {},
     "output_type": "execute_result"
    }
   ],
   "source": [
    "rndTree.score(x_test,y_test) # Testing accuracy"
   ]
  },
  {
   "cell_type": "code",
   "execution_count": 79,
   "metadata": {},
   "outputs": [
    {
     "name": "stdout",
     "output_type": "stream",
     "text": [
      "Confusion Matrix:  [[10811   328]\n",
      " [ 1980  1534]]\n",
      "Accuracy :  84.2489592575\n",
      "Report :               precision    recall  f1-score   support\n",
      "\n",
      "      <=50K       0.85      0.97      0.90     11139\n",
      "       >50K       0.82      0.44      0.57      3514\n",
      "\n",
      "avg / total       0.84      0.84      0.82     14653\n",
      "\n"
     ]
    }
   ],
   "source": [
    "# Prediction using Random Forest\n",
    "Y_pred_rndFor = prediction(x_test, rndTree)\n",
    "cal_accuracy(y_test, Y_pred_rndFor)"
   ]
  },
  {
   "cell_type": "code",
   "execution_count": 80,
   "metadata": {},
   "outputs": [
    {
     "name": "stdout",
     "output_type": "stream",
     "text": [
      "Important Features..\n",
      "                importance\n",
      "marital_status    0.243919\n",
      "capitals          0.243019\n",
      "relationship      0.176977\n",
      "education_num     0.109382\n",
      "Age               0.069443\n",
      "hours_per_week    0.065070\n",
      "education         0.037897\n",
      "sex               0.027802\n",
      "occupation        0.021384\n",
      "workclass         0.004052\n",
      "fnlwgt            0.000657\n",
      "race              0.000308\n",
      "native_country    0.000089\n"
     ]
    }
   ],
   "source": [
    "GetTreeFeatureImportance(rndTree, x_test)"
   ]
  },
  {
   "cell_type": "raw",
   "metadata": {},
   "source": [
    "For Label Encoded Data\n",
    "###############################################################################################################################\n",
    "From the above Random Forest the accuracy we get is 84% and 84% respectively for train and test data\n",
    "###############################################################################################################################"
   ]
  },
  {
   "cell_type": "raw",
   "metadata": {},
   "source": [
    "################################################################################################################################################################################################################################################################"
   ]
  },
  {
   "cell_type": "code",
   "execution_count": 81,
   "metadata": {
    "collapsed": true
   },
   "outputs": [],
   "source": [
    "             ################### RANDOM FOREST WITH ONE HOT ENCODED DATA ###################################"
   ]
  },
  {
   "cell_type": "code",
   "execution_count": 82,
   "metadata": {},
   "outputs": [
    {
     "data": {
      "text/plain": [
       "RandomForestClassifier(bootstrap=True, class_weight=None, criterion='gini',\n",
       "            max_depth=5, max_features='auto', max_leaf_nodes=None,\n",
       "            min_impurity_decrease=0.0, min_impurity_split=None,\n",
       "            min_samples_leaf=1, min_samples_split=2,\n",
       "            min_weight_fraction_leaf=0.0, n_estimators=10, n_jobs=1,\n",
       "            oob_score=False, random_state=None, verbose=0,\n",
       "            warm_start=False)"
      ]
     },
     "execution_count": 82,
     "metadata": {},
     "output_type": "execute_result"
    }
   ],
   "source": [
    "rndTree = RandomForestClassifier(n_estimators=10, max_depth = 5)\n",
    "rndTree.fit(X_train,Y_train)"
   ]
  },
  {
   "cell_type": "code",
   "execution_count": 83,
   "metadata": {},
   "outputs": [
    {
     "data": {
      "text/plain": [
       "0.82924332387610045"
      ]
     },
     "execution_count": 83,
     "metadata": {},
     "output_type": "execute_result"
    }
   ],
   "source": [
    "rndTree.score(X_train,Y_train) #Training accuracy"
   ]
  },
  {
   "cell_type": "code",
   "execution_count": 84,
   "metadata": {},
   "outputs": [
    {
     "data": {
      "text/plain": [
       "0.83232102641097383"
      ]
     },
     "execution_count": 84,
     "metadata": {},
     "output_type": "execute_result"
    }
   ],
   "source": [
    "rndTree.score(X_test,Y_test) # Testing accuracy"
   ]
  },
  {
   "cell_type": "code",
   "execution_count": 85,
   "metadata": {},
   "outputs": [
    {
     "name": "stdout",
     "output_type": "stream",
     "text": [
      "Confusion Matrix:  [[10879   301]\n",
      " [ 2156  1317]]\n",
      "Accuracy :  83.2321026411\n",
      "Report :               precision    recall  f1-score   support\n",
      "\n",
      "      <=50K       0.83      0.97      0.90     11180\n",
      "       >50K       0.81      0.38      0.52      3473\n",
      "\n",
      "avg / total       0.83      0.83      0.81     14653\n",
      "\n"
     ]
    }
   ],
   "source": [
    "# Prediction using Random Forest\n",
    "Y_pred_rndFor = prediction(X_test, rndTree)\n",
    "cal_accuracy(Y_test, Y_pred_rndFor)"
   ]
  },
  {
   "cell_type": "code",
   "execution_count": 86,
   "metadata": {},
   "outputs": [
    {
     "name": "stdout",
     "output_type": "stream",
     "text": [
      "Important Features..\n",
      "                                    importance\n",
      "marital_status_ Married-civ-spouse    0.180867\n",
      "relationship_ Husband                 0.144852\n",
      "education_num                         0.139695\n",
      "hours_per_week                        0.093322\n",
      "capitals                              0.088304\n",
      "Age                                   0.065042\n",
      "marital_status_ Never-married         0.046248\n",
      "relationship_ Own-child               0.039843\n",
      "relationship_ Unmarried               0.035135\n",
      "occupation_ Prof-specialty            0.025963\n",
      "sex_ Male                             0.022047\n",
      "relationship_ Not-in-family           0.019368\n",
      "relationship_ Wife                    0.015783\n",
      "education_ HS-grad                    0.014689\n",
      "education_ Doctorate                  0.010953\n",
      "occupation_ Exec-managerial           0.010436\n",
      "workclass_ Self-emp-inc               0.008972\n",
      "education_ Prof-school                0.008909\n",
      "education_ Bachelors                  0.007755\n",
      "occupation_ Other-service             0.007595\n",
      "sex_ Female                           0.002283\n",
      "workclass_ ?                          0.001917\n",
      "occupation_ ?                         0.001502\n",
      "race_ White                           0.001291\n",
      "workclass_ Private                    0.001099\n",
      "education_ 11th                       0.000829\n",
      "race_ Black                           0.000803\n",
      "fnlwgt                                0.000640\n",
      "education_ Masters                    0.000448\n",
      "marital_status_ Divorced              0.000388\n",
      "...                                        ...\n",
      "native_country_ Scotland              0.000000\n",
      "education_ 1st-4th                    0.000000\n",
      "native_country_ Thailand              0.000000\n",
      "native_country_ Trinadad&Tobago       0.000000\n",
      "education_ Assoc-acdm                 0.000000\n",
      "occupation_ Priv-house-serv           0.000000\n",
      "native_country_ Hong                  0.000000\n",
      "native_country_ Honduras              0.000000\n",
      "occupation_ Protective-serv           0.000000\n",
      "occupation_ Transport-moving          0.000000\n",
      "workclass_ Never-worked               0.000000\n",
      "relationship_ Other-relative          0.000000\n",
      "workclass_ Local-gov                  0.000000\n",
      "occupation_ Armed-Forces              0.000000\n",
      "workclass_ Without-pay                0.000000\n",
      "education_ Preschool                  0.000000\n",
      "education_ Assoc-voc                  0.000000\n",
      "native_country_ Cambodia              0.000000\n",
      "native_country_ Columbia              0.000000\n",
      "native_country_ Cuba                  0.000000\n",
      "native_country_ Dominican-Republic    0.000000\n",
      "native_country_ Ecuador               0.000000\n",
      "native_country_ El-Salvador           0.000000\n",
      "native_country_ France                0.000000\n",
      "occupation_ Handlers-cleaners         0.000000\n",
      "native_country_ Greece                0.000000\n",
      "native_country_ Guatemala             0.000000\n",
      "native_country_ Haiti                 0.000000\n",
      "native_country_ Holand-Netherlands    0.000000\n",
      "native_country_ Yugoslavia            0.000000\n",
      "\n",
      "[107 rows x 1 columns]\n"
     ]
    }
   ],
   "source": [
    "GetTreeFeatureImportance(rndTree, X_test)"
   ]
  },
  {
   "cell_type": "raw",
   "metadata": {},
   "source": [
    "For One Hot Encoded Data\n",
    "###############################################################################################################################\n",
    "From the above Random Forest the accuracy we get is 82% and 83% respectively for train and test data\n",
    "###############################################################################################################################"
   ]
  },
  {
   "cell_type": "raw",
   "metadata": {},
   "source": [
    "################################################################################################################################################################################################################################################################"
   ]
  },
  {
   "cell_type": "markdown",
   "metadata": {
    "collapsed": true
   },
   "source": [
    "# LOGISTIC REGRESSION Classification Model"
   ]
  },
  {
   "cell_type": "code",
   "execution_count": 87,
   "metadata": {
    "collapsed": true
   },
   "outputs": [],
   "source": [
    "             ####################### LOGISTIC REGRESSION WITH LABEL ENCODED DATA ###################################"
   ]
  },
  {
   "cell_type": "code",
   "execution_count": 88,
   "metadata": {
    "collapsed": true
   },
   "outputs": [],
   "source": [
    "logReg = LogisticRegression(max_iter=500)"
   ]
  },
  {
   "cell_type": "code",
   "execution_count": 89,
   "metadata": {},
   "outputs": [
    {
     "data": {
      "text/plain": [
       "LogisticRegression(C=1.0, class_weight=None, dual=False, fit_intercept=True,\n",
       "          intercept_scaling=1, max_iter=500, multi_class='ovr', n_jobs=1,\n",
       "          penalty='l2', random_state=None, solver='liblinear', tol=0.0001,\n",
       "          verbose=0, warm_start=False)"
      ]
     },
     "execution_count": 89,
     "metadata": {},
     "output_type": "execute_result"
    }
   ],
   "source": [
    "logReg.fit(x_train, y_train)"
   ]
  },
  {
   "cell_type": "code",
   "execution_count": 90,
   "metadata": {},
   "outputs": [
    {
     "data": {
      "text/plain": [
       "0.78384860627687269"
      ]
     },
     "execution_count": 90,
     "metadata": {},
     "output_type": "execute_result"
    }
   ],
   "source": [
    "logReg.score(x_train, y_train) #Training accuracy"
   ]
  },
  {
   "cell_type": "code",
   "execution_count": 91,
   "metadata": {},
   "outputs": [
    {
     "data": {
      "text/plain": [
       "0.78529993857913061"
      ]
     },
     "execution_count": 91,
     "metadata": {},
     "output_type": "execute_result"
    }
   ],
   "source": [
    "logReg.score(x_test, y_test) #Testing accuracy"
   ]
  },
  {
   "cell_type": "code",
   "execution_count": 92,
   "metadata": {},
   "outputs": [
    {
     "name": "stdout",
     "output_type": "stream",
     "text": [
      "Confusion Matrix:  [[10675   464]\n",
      " [ 2682   832]]\n",
      "Accuracy :  78.5299938579\n",
      "Report :               precision    recall  f1-score   support\n",
      "\n",
      "      <=50K       0.80      0.96      0.87     11139\n",
      "       >50K       0.64      0.24      0.35      3514\n",
      "\n",
      "avg / total       0.76      0.79      0.75     14653\n",
      "\n"
     ]
    }
   ],
   "source": [
    "# Prediction using Logistic Regression\n",
    "Y_pred_logreg = prediction(x_test, logReg)\n",
    "cal_accuracy(y_test, Y_pred_logreg)"
   ]
  },
  {
   "cell_type": "code",
   "execution_count": 93,
   "metadata": {},
   "outputs": [
    {
     "data": {
      "text/html": [
       "<div>\n",
       "<style>\n",
       "    .dataframe thead tr:only-child th {\n",
       "        text-align: right;\n",
       "    }\n",
       "\n",
       "    .dataframe thead th {\n",
       "        text-align: left;\n",
       "    }\n",
       "\n",
       "    .dataframe tbody tr th {\n",
       "        vertical-align: top;\n",
       "    }\n",
       "</style>\n",
       "<table border=\"1\" class=\"dataframe\">\n",
       "  <thead>\n",
       "    <tr style=\"text-align: right;\">\n",
       "      <th></th>\n",
       "      <th>Features</th>\n",
       "      <th>Importance</th>\n",
       "    </tr>\n",
       "  </thead>\n",
       "  <tbody>\n",
       "    <tr>\n",
       "      <th>0</th>\n",
       "      <td>Age</td>\n",
       "      <td>0.009786</td>\n",
       "    </tr>\n",
       "    <tr>\n",
       "      <th>10</th>\n",
       "      <td>hours_per_week</td>\n",
       "      <td>0.008918</td>\n",
       "    </tr>\n",
       "    <tr>\n",
       "      <th>4</th>\n",
       "      <td>education_num</td>\n",
       "      <td>0.008112</td>\n",
       "    </tr>\n",
       "    <tr>\n",
       "      <th>9</th>\n",
       "      <td>sex</td>\n",
       "      <td>0.002005</td>\n",
       "    </tr>\n",
       "    <tr>\n",
       "      <th>12</th>\n",
       "      <td>capitals</td>\n",
       "      <td>0.000361</td>\n",
       "    </tr>\n",
       "    <tr>\n",
       "      <th>2</th>\n",
       "      <td>fnlwgt</td>\n",
       "      <td>-0.000002</td>\n",
       "    </tr>\n",
       "    <tr>\n",
       "      <th>6</th>\n",
       "      <td>occupation</td>\n",
       "      <td>-0.001621</td>\n",
       "    </tr>\n",
       "    <tr>\n",
       "      <th>8</th>\n",
       "      <td>race</td>\n",
       "      <td>-0.004671</td>\n",
       "    </tr>\n",
       "    <tr>\n",
       "      <th>1</th>\n",
       "      <td>workclass</td>\n",
       "      <td>-0.005102</td>\n",
       "    </tr>\n",
       "    <tr>\n",
       "      <th>3</th>\n",
       "      <td>education</td>\n",
       "      <td>-0.008264</td>\n",
       "    </tr>\n",
       "    <tr>\n",
       "      <th>5</th>\n",
       "      <td>marital_status</td>\n",
       "      <td>-0.014675</td>\n",
       "    </tr>\n",
       "    <tr>\n",
       "      <th>7</th>\n",
       "      <td>relationship</td>\n",
       "      <td>-0.015764</td>\n",
       "    </tr>\n",
       "    <tr>\n",
       "      <th>11</th>\n",
       "      <td>native_country</td>\n",
       "      <td>-0.044681</td>\n",
       "    </tr>\n",
       "  </tbody>\n",
       "</table>\n",
       "</div>"
      ],
      "text/plain": [
       "          Features  Importance\n",
       "0              Age    0.009786\n",
       "10  hours_per_week    0.008918\n",
       "4    education_num    0.008112\n",
       "9              sex    0.002005\n",
       "12        capitals    0.000361\n",
       "2           fnlwgt   -0.000002\n",
       "6       occupation   -0.001621\n",
       "8             race   -0.004671\n",
       "1        workclass   -0.005102\n",
       "3        education   -0.008264\n",
       "5   marital_status   -0.014675\n",
       "7     relationship   -0.015764\n",
       "11  native_country   -0.044681"
      ]
     },
     "execution_count": 93,
     "metadata": {},
     "output_type": "execute_result"
    }
   ],
   "source": [
    "impFeatures=pd.DataFrame({'Features' :x_test.columns,'Importance': logReg.coef_[0][:]})\n",
    "impFeatures.sort_values('Importance', ascending =False)"
   ]
  },
  {
   "cell_type": "raw",
   "metadata": {
    "collapsed": true
   },
   "source": [
    "For Label Encoded Data\n",
    "###############################################################################################################################\n",
    "From the above Logistic Regression the accuracy we get is 78% and 78% respectively for train and test data\n",
    "###############################################################################################################################"
   ]
  },
  {
   "cell_type": "raw",
   "metadata": {},
   "source": [
    "################################################################################################################################################################################################################################################################"
   ]
  },
  {
   "cell_type": "code",
   "execution_count": 94,
   "metadata": {
    "collapsed": true
   },
   "outputs": [],
   "source": [
    "             ####################### LOGISTIC REGRESSION WITH ONE HOT ENCODED DATA ###################################"
   ]
  },
  {
   "cell_type": "code",
   "execution_count": 95,
   "metadata": {
    "collapsed": true
   },
   "outputs": [],
   "source": [
    "logReg = LogisticRegression(max_iter=500)"
   ]
  },
  {
   "cell_type": "code",
   "execution_count": 96,
   "metadata": {},
   "outputs": [
    {
     "data": {
      "text/plain": [
       "LogisticRegression(C=1.0, class_weight=None, dual=False, fit_intercept=True,\n",
       "          intercept_scaling=1, max_iter=500, multi_class='ovr', n_jobs=1,\n",
       "          penalty='l2', random_state=None, solver='liblinear', tol=0.0001,\n",
       "          verbose=0, warm_start=False)"
      ]
     },
     "execution_count": 96,
     "metadata": {},
     "output_type": "execute_result"
    }
   ],
   "source": [
    "logReg.fit(X_train, Y_train)"
   ]
  },
  {
   "cell_type": "code",
   "execution_count": 97,
   "metadata": {},
   "outputs": [
    {
     "data": {
      "text/plain": [
       "0.79192137822106523"
      ]
     },
     "execution_count": 97,
     "metadata": {},
     "output_type": "execute_result"
    }
   ],
   "source": [
    "logReg.score(X_train, Y_train) #Training Score"
   ]
  },
  {
   "cell_type": "code",
   "execution_count": 98,
   "metadata": {},
   "outputs": [
    {
     "data": {
      "text/plain": [
       "0.79867603903637485"
      ]
     },
     "execution_count": 98,
     "metadata": {},
     "output_type": "execute_result"
    }
   ],
   "source": [
    "logReg.score(X_test, Y_test) # Testing Score"
   ]
  },
  {
   "cell_type": "code",
   "execution_count": 99,
   "metadata": {},
   "outputs": [
    {
     "name": "stdout",
     "output_type": "stream",
     "text": [
      "Confusion Matrix:  [[10944   236]\n",
      " [ 2714   759]]\n",
      "Accuracy :  79.8676039036\n",
      "Report :               precision    recall  f1-score   support\n",
      "\n",
      "      <=50K       0.80      0.98      0.88     11180\n",
      "       >50K       0.76      0.22      0.34      3473\n",
      "\n",
      "avg / total       0.79      0.80      0.75     14653\n",
      "\n"
     ]
    }
   ],
   "source": [
    "# Prediction using Logistic Regression\n",
    "Y_pred_logreg = prediction(X_test, logReg)\n",
    "cal_accuracy(Y_test, Y_pred_logreg)"
   ]
  },
  {
   "cell_type": "code",
   "execution_count": 100,
   "metadata": {},
   "outputs": [
    {
     "data": {
      "text/html": [
       "<div>\n",
       "<style>\n",
       "    .dataframe thead tr:only-child th {\n",
       "        text-align: right;\n",
       "    }\n",
       "\n",
       "    .dataframe thead th {\n",
       "        text-align: left;\n",
       "    }\n",
       "\n",
       "    .dataframe tbody tr th {\n",
       "        vertical-align: top;\n",
       "    }\n",
       "</style>\n",
       "<table border=\"1\" class=\"dataframe\">\n",
       "  <thead>\n",
       "    <tr style=\"text-align: right;\">\n",
       "      <th></th>\n",
       "      <th>Features</th>\n",
       "      <th>Importance</th>\n",
       "    </tr>\n",
       "  </thead>\n",
       "  <tbody>\n",
       "    <tr>\n",
       "      <th>4</th>\n",
       "      <td>capitals</td>\n",
       "      <td>3.517928e-04</td>\n",
       "    </tr>\n",
       "    <tr>\n",
       "      <th>32</th>\n",
       "      <td>marital_status_ Married-civ-spouse</td>\n",
       "      <td>2.836848e-04</td>\n",
       "    </tr>\n",
       "    <tr>\n",
       "      <th>52</th>\n",
       "      <td>relationship_ Husband</td>\n",
       "      <td>2.567081e-04</td>\n",
       "    </tr>\n",
       "    <tr>\n",
       "      <th>41</th>\n",
       "      <td>occupation_ Exec-managerial</td>\n",
       "      <td>8.456485e-05</td>\n",
       "    </tr>\n",
       "    <tr>\n",
       "      <th>23</th>\n",
       "      <td>education_ Bachelors</td>\n",
       "      <td>7.417972e-05</td>\n",
       "    </tr>\n",
       "    <tr>\n",
       "      <th>47</th>\n",
       "      <td>occupation_ Prof-specialty</td>\n",
       "      <td>6.640636e-05</td>\n",
       "    </tr>\n",
       "    <tr>\n",
       "      <th>26</th>\n",
       "      <td>education_ Masters</td>\n",
       "      <td>4.905769e-05</td>\n",
       "    </tr>\n",
       "    <tr>\n",
       "      <th>10</th>\n",
       "      <td>workclass_ Self-emp-inc</td>\n",
       "      <td>3.131034e-05</td>\n",
       "    </tr>\n",
       "    <tr>\n",
       "      <th>57</th>\n",
       "      <td>relationship_ Wife</td>\n",
       "      <td>2.994068e-05</td>\n",
       "    </tr>\n",
       "    <tr>\n",
       "      <th>64</th>\n",
       "      <td>sex_ Male</td>\n",
       "      <td>2.886093e-05</td>\n",
       "    </tr>\n",
       "    <tr>\n",
       "      <th>28</th>\n",
       "      <td>education_ Prof-school</td>\n",
       "      <td>2.296369e-05</td>\n",
       "    </tr>\n",
       "    <tr>\n",
       "      <th>24</th>\n",
       "      <td>education_ Doctorate</td>\n",
       "      <td>1.934883e-05</td>\n",
       "    </tr>\n",
       "    <tr>\n",
       "      <th>6</th>\n",
       "      <td>workclass_ Federal-gov</td>\n",
       "      <td>1.108136e-05</td>\n",
       "    </tr>\n",
       "    <tr>\n",
       "      <th>48</th>\n",
       "      <td>occupation_ Protective-serv</td>\n",
       "      <td>2.670516e-06</td>\n",
       "    </tr>\n",
       "    <tr>\n",
       "      <th>101</th>\n",
       "      <td>native_country_ Taiwan</td>\n",
       "      <td>9.658064e-07</td>\n",
       "    </tr>\n",
       "    <tr>\n",
       "      <th>74</th>\n",
       "      <td>native_country_ England</td>\n",
       "      <td>9.614767e-07</td>\n",
       "    </tr>\n",
       "    <tr>\n",
       "      <th>84</th>\n",
       "      <td>native_country_ India</td>\n",
       "      <td>9.400073e-07</td>\n",
       "    </tr>\n",
       "    <tr>\n",
       "      <th>85</th>\n",
       "      <td>native_country_ Iran</td>\n",
       "      <td>7.758882e-07</td>\n",
       "    </tr>\n",
       "    <tr>\n",
       "      <th>87</th>\n",
       "      <td>native_country_ Italy</td>\n",
       "      <td>7.509969e-07</td>\n",
       "    </tr>\n",
       "    <tr>\n",
       "      <th>75</th>\n",
       "      <td>native_country_ France</td>\n",
       "      <td>6.597184e-07</td>\n",
       "    </tr>\n",
       "    <tr>\n",
       "      <th>67</th>\n",
       "      <td>native_country_ Canada</td>\n",
       "      <td>6.247360e-07</td>\n",
       "    </tr>\n",
       "    <tr>\n",
       "      <th>70</th>\n",
       "      <td>native_country_ Cuba</td>\n",
       "      <td>3.229163e-07</td>\n",
       "    </tr>\n",
       "    <tr>\n",
       "      <th>66</th>\n",
       "      <td>native_country_ Cambodia</td>\n",
       "      <td>2.798936e-07</td>\n",
       "    </tr>\n",
       "    <tr>\n",
       "      <th>83</th>\n",
       "      <td>native_country_ Hungary</td>\n",
       "      <td>2.626219e-07</td>\n",
       "    </tr>\n",
       "    <tr>\n",
       "      <th>31</th>\n",
       "      <td>marital_status_ Married-AF-spouse</td>\n",
       "      <td>2.006220e-07</td>\n",
       "    </tr>\n",
       "    <tr>\n",
       "      <th>106</th>\n",
       "      <td>native_country_ Yugoslavia</td>\n",
       "      <td>1.285997e-07</td>\n",
       "    </tr>\n",
       "    <tr>\n",
       "      <th>77</th>\n",
       "      <td>native_country_ Greece</td>\n",
       "      <td>7.356071e-08</td>\n",
       "    </tr>\n",
       "    <tr>\n",
       "      <th>89</th>\n",
       "      <td>native_country_ Japan</td>\n",
       "      <td>5.240619e-08</td>\n",
       "    </tr>\n",
       "    <tr>\n",
       "      <th>39</th>\n",
       "      <td>occupation_ Armed-Forces</td>\n",
       "      <td>1.573524e-08</td>\n",
       "    </tr>\n",
       "    <tr>\n",
       "      <th>68</th>\n",
       "      <td>native_country_ China</td>\n",
       "      <td>6.474264e-09</td>\n",
       "    </tr>\n",
       "    <tr>\n",
       "      <th>...</th>\n",
       "      <td>...</td>\n",
       "      <td>...</td>\n",
       "    </tr>\n",
       "    <tr>\n",
       "      <th>51</th>\n",
       "      <td>occupation_ Transport-moving</td>\n",
       "      <td>-1.483708e-05</td>\n",
       "    </tr>\n",
       "    <tr>\n",
       "      <th>19</th>\n",
       "      <td>education_ 7th-8th</td>\n",
       "      <td>-1.785615e-05</td>\n",
       "    </tr>\n",
       "    <tr>\n",
       "      <th>42</th>\n",
       "      <td>occupation_ Farming-fishing</td>\n",
       "      <td>-2.540834e-05</td>\n",
       "    </tr>\n",
       "    <tr>\n",
       "      <th>14</th>\n",
       "      <td>education_ 10th</td>\n",
       "      <td>-2.626192e-05</td>\n",
       "    </tr>\n",
       "    <tr>\n",
       "      <th>36</th>\n",
       "      <td>marital_status_ Widowed</td>\n",
       "      <td>-2.869278e-05</td>\n",
       "    </tr>\n",
       "    <tr>\n",
       "      <th>35</th>\n",
       "      <td>marital_status_ Separated</td>\n",
       "      <td>-2.879655e-05</td>\n",
       "    </tr>\n",
       "    <tr>\n",
       "      <th>40</th>\n",
       "      <td>occupation_ Craft-repair</td>\n",
       "      <td>-3.052652e-05</td>\n",
       "    </tr>\n",
       "    <tr>\n",
       "      <th>54</th>\n",
       "      <td>relationship_ Other-relative</td>\n",
       "      <td>-3.120668e-05</td>\n",
       "    </tr>\n",
       "    <tr>\n",
       "      <th>43</th>\n",
       "      <td>occupation_ Handlers-cleaners</td>\n",
       "      <td>-3.437899e-05</td>\n",
       "    </tr>\n",
       "    <tr>\n",
       "      <th>15</th>\n",
       "      <td>education_ 11th</td>\n",
       "      <td>-3.703929e-05</td>\n",
       "    </tr>\n",
       "    <tr>\n",
       "      <th>44</th>\n",
       "      <td>occupation_ Machine-op-inspct</td>\n",
       "      <td>-3.979338e-05</td>\n",
       "    </tr>\n",
       "    <tr>\n",
       "      <th>5</th>\n",
       "      <td>workclass_ ?</td>\n",
       "      <td>-4.883404e-05</td>\n",
       "    </tr>\n",
       "    <tr>\n",
       "      <th>37</th>\n",
       "      <td>occupation_ ?</td>\n",
       "      <td>-4.904953e-05</td>\n",
       "    </tr>\n",
       "    <tr>\n",
       "      <th>60</th>\n",
       "      <td>race_ Black</td>\n",
       "      <td>-5.444237e-05</td>\n",
       "    </tr>\n",
       "    <tr>\n",
       "      <th>38</th>\n",
       "      <td>occupation_ Adm-clerical</td>\n",
       "      <td>-7.074651e-05</td>\n",
       "    </tr>\n",
       "    <tr>\n",
       "      <th>29</th>\n",
       "      <td>education_ Some-college</td>\n",
       "      <td>-9.155714e-05</td>\n",
       "    </tr>\n",
       "    <tr>\n",
       "      <th>56</th>\n",
       "      <td>relationship_ Unmarried</td>\n",
       "      <td>-1.018812e-04</td>\n",
       "    </tr>\n",
       "    <tr>\n",
       "      <th>45</th>\n",
       "      <td>occupation_ Other-service</td>\n",
       "      <td>-1.034412e-04</td>\n",
       "    </tr>\n",
       "    <tr>\n",
       "      <th>30</th>\n",
       "      <td>marital_status_ Divorced</td>\n",
       "      <td>-1.157866e-04</td>\n",
       "    </tr>\n",
       "    <tr>\n",
       "      <th>62</th>\n",
       "      <td>race_ White</td>\n",
       "      <td>-1.528697e-04</td>\n",
       "    </tr>\n",
       "    <tr>\n",
       "      <th>55</th>\n",
       "      <td>relationship_ Own-child</td>\n",
       "      <td>-1.719376e-04</td>\n",
       "    </tr>\n",
       "    <tr>\n",
       "      <th>25</th>\n",
       "      <td>education_ HS-grad</td>\n",
       "      <td>-1.734916e-04</td>\n",
       "    </tr>\n",
       "    <tr>\n",
       "      <th>104</th>\n",
       "      <td>native_country_ United-States</td>\n",
       "      <td>-2.025697e-04</td>\n",
       "    </tr>\n",
       "    <tr>\n",
       "      <th>9</th>\n",
       "      <td>workclass_ Private</td>\n",
       "      <td>-2.047944e-04</td>\n",
       "    </tr>\n",
       "    <tr>\n",
       "      <th>53</th>\n",
       "      <td>relationship_ Not-in-family</td>\n",
       "      <td>-2.132037e-04</td>\n",
       "    </tr>\n",
       "    <tr>\n",
       "      <th>63</th>\n",
       "      <td>sex_ Female</td>\n",
       "      <td>-2.604414e-04</td>\n",
       "    </tr>\n",
       "    <tr>\n",
       "      <th>34</th>\n",
       "      <td>marital_status_ Never-married</td>\n",
       "      <td>-3.315993e-04</td>\n",
       "    </tr>\n",
       "    <tr>\n",
       "      <th>2</th>\n",
       "      <td>education_num</td>\n",
       "      <td>-9.827058e-04</td>\n",
       "    </tr>\n",
       "    <tr>\n",
       "      <th>0</th>\n",
       "      <td>Age</td>\n",
       "      <td>-4.269787e-03</td>\n",
       "    </tr>\n",
       "    <tr>\n",
       "      <th>3</th>\n",
       "      <td>hours_per_week</td>\n",
       "      <td>-4.659380e-03</td>\n",
       "    </tr>\n",
       "  </tbody>\n",
       "</table>\n",
       "<p>107 rows × 2 columns</p>\n",
       "</div>"
      ],
      "text/plain": [
       "                               Features    Importance\n",
       "4                              capitals  3.517928e-04\n",
       "32   marital_status_ Married-civ-spouse  2.836848e-04\n",
       "52                relationship_ Husband  2.567081e-04\n",
       "41          occupation_ Exec-managerial  8.456485e-05\n",
       "23                 education_ Bachelors  7.417972e-05\n",
       "47           occupation_ Prof-specialty  6.640636e-05\n",
       "26                   education_ Masters  4.905769e-05\n",
       "10              workclass_ Self-emp-inc  3.131034e-05\n",
       "57                   relationship_ Wife  2.994068e-05\n",
       "64                            sex_ Male  2.886093e-05\n",
       "28               education_ Prof-school  2.296369e-05\n",
       "24                 education_ Doctorate  1.934883e-05\n",
       "6                workclass_ Federal-gov  1.108136e-05\n",
       "48          occupation_ Protective-serv  2.670516e-06\n",
       "101              native_country_ Taiwan  9.658064e-07\n",
       "74              native_country_ England  9.614767e-07\n",
       "84                native_country_ India  9.400073e-07\n",
       "85                 native_country_ Iran  7.758882e-07\n",
       "87                native_country_ Italy  7.509969e-07\n",
       "75               native_country_ France  6.597184e-07\n",
       "67               native_country_ Canada  6.247360e-07\n",
       "70                 native_country_ Cuba  3.229163e-07\n",
       "66             native_country_ Cambodia  2.798936e-07\n",
       "83              native_country_ Hungary  2.626219e-07\n",
       "31    marital_status_ Married-AF-spouse  2.006220e-07\n",
       "106          native_country_ Yugoslavia  1.285997e-07\n",
       "77               native_country_ Greece  7.356071e-08\n",
       "89                native_country_ Japan  5.240619e-08\n",
       "39             occupation_ Armed-Forces  1.573524e-08\n",
       "68                native_country_ China  6.474264e-09\n",
       "..                                  ...           ...\n",
       "51         occupation_ Transport-moving -1.483708e-05\n",
       "19                   education_ 7th-8th -1.785615e-05\n",
       "42          occupation_ Farming-fishing -2.540834e-05\n",
       "14                      education_ 10th -2.626192e-05\n",
       "36              marital_status_ Widowed -2.869278e-05\n",
       "35            marital_status_ Separated -2.879655e-05\n",
       "40             occupation_ Craft-repair -3.052652e-05\n",
       "54         relationship_ Other-relative -3.120668e-05\n",
       "43        occupation_ Handlers-cleaners -3.437899e-05\n",
       "15                      education_ 11th -3.703929e-05\n",
       "44        occupation_ Machine-op-inspct -3.979338e-05\n",
       "5                          workclass_ ? -4.883404e-05\n",
       "37                        occupation_ ? -4.904953e-05\n",
       "60                          race_ Black -5.444237e-05\n",
       "38             occupation_ Adm-clerical -7.074651e-05\n",
       "29              education_ Some-college -9.155714e-05\n",
       "56              relationship_ Unmarried -1.018812e-04\n",
       "45            occupation_ Other-service -1.034412e-04\n",
       "30             marital_status_ Divorced -1.157866e-04\n",
       "62                          race_ White -1.528697e-04\n",
       "55              relationship_ Own-child -1.719376e-04\n",
       "25                   education_ HS-grad -1.734916e-04\n",
       "104       native_country_ United-States -2.025697e-04\n",
       "9                    workclass_ Private -2.047944e-04\n",
       "53          relationship_ Not-in-family -2.132037e-04\n",
       "63                          sex_ Female -2.604414e-04\n",
       "34        marital_status_ Never-married -3.315993e-04\n",
       "2                         education_num -9.827058e-04\n",
       "0                                   Age -4.269787e-03\n",
       "3                        hours_per_week -4.659380e-03\n",
       "\n",
       "[107 rows x 2 columns]"
      ]
     },
     "execution_count": 100,
     "metadata": {},
     "output_type": "execute_result"
    }
   ],
   "source": [
    "impFeatures=pd.DataFrame({'Features' :X_test.columns,'Importance': logReg.coef_[0][:]})\n",
    "impFeatures.sort_values('Importance', ascending =False)"
   ]
  },
  {
   "cell_type": "raw",
   "metadata": {
    "collapsed": true
   },
   "source": [
    "For One Hot Encoded Data\n",
    "###############################################################################################################################\n",
    "From the above Logistic Regression the accuracy we get is 79% and 79% respectively for train and test data\n",
    "###############################################################################################################################"
   ]
  },
  {
   "cell_type": "raw",
   "metadata": {},
   "source": [
    "################################################################################################################################################################################################################################################################"
   ]
  },
  {
   "cell_type": "raw",
   "metadata": {},
   "source": [
    "<<<<<<<<<<<<<<<<<<<<<<<<<<<<<<<<<<<<<<<<<<<>>>>>>>>>>>>>>>>>>>>>>>>>>>>>>>>>>>\n",
    "All model Scores\n",
    "Logistic Regression - OneHot - Train: 79% - Test: 79%\n",
    "Logistic Regression - Label - Train: 78% - Test: 78%\n",
    "Random Forest - OneHot - Train: 82% - Test: 83%\n",
    "Random Forest - Label - Train: 84% - Test: 84%\n",
    "Decision Tree(entropy) - OneHot - Train: 84% - Test: 84%\n",
    "Decision Tree(entropy) - Label - Train: 83% - Test: 83%\n",
    "Decision Tree(gini) - OneHot - Train: 84% - Test: 84%\n",
    "Decision Tree(gini) - Label - Train: 83% - Test: 83%"
   ]
  },
  {
   "cell_type": "markdown",
   "metadata": {},
   "source": [
    "# Problem Statement\n"
   ]
  },
  {
   "cell_type": "markdown",
   "metadata": {},
   "source": [
    "# Problem 1:\n",
    "# Prediction task is to determine whether a person makes over 50K a year."
   ]
  },
  {
   "cell_type": "raw",
   "metadata": {},
   "source": [
    "VARIOUS MODELS USED TO PREDICT THE SALARY GROUP\n",
    "LOGISTIC REGRESSION \n",
    "DECISION TREE\n",
    "RANDOM FOREST\n",
    "ALL ABOVE MODEL IS USED WITH LABEL ENCODER AND ONE HOT ENCODED DATA"
   ]
  },
  {
   "cell_type": "markdown",
   "metadata": {},
   "source": [
    "# Problem 2:\n",
    "# Which factors are important"
   ]
  },
  {
   "cell_type": "raw",
   "metadata": {},
   "source": [
    "Below feature are identifies to be major contributor to  determine if the person is making >50K or <=50K\n",
    "\n",
    "Relationship\n",
    "education num\n",
    "Age\n",
    "capitals\n",
    "workclass\n",
    "hours_per_week"
   ]
  },
  {
   "cell_type": "markdown",
   "metadata": {},
   "source": [
    "# Problem 3:\n",
    "# Which algorithms are best for this dataset"
   ]
  },
  {
   "cell_type": "raw",
   "metadata": {},
   "source": [
    "From the Prediction accuraies its clear that Decision Tree and Random Forest are giving better results.\n",
    "Since Random Forest are collection of Decision Trees. Decision Tree can be determined as the best Model"
   ]
  },
  {
   "cell_type": "code",
   "execution_count": null,
   "metadata": {
    "collapsed": true
   },
   "outputs": [],
   "source": []
  }
 ],
 "metadata": {
  "kernelspec": {
   "display_name": "Python 3",
   "language": "python",
   "name": "python3"
  },
  "language_info": {
   "codemirror_mode": {
    "name": "ipython",
    "version": 3
   },
   "file_extension": ".py",
   "mimetype": "text/x-python",
   "name": "python",
   "nbconvert_exporter": "python",
   "pygments_lexer": "ipython3",
   "version": "3.6.3"
  }
 },
 "nbformat": 4,
 "nbformat_minor": 2
}
